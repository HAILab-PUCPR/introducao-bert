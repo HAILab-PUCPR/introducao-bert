{
 "cells": [
  {
   "cell_type": "markdown",
   "metadata": {},
   "source": [
    "# Classificação com BERT\n",
    "\n",
    "Neste *notebook* você verá um exemplo de como usar o [BERT](https://arxiv.org/abs/1810.04805) para tarefa de classificação, usando Hugging Faces. \n",
    "\n",
    "Fontes:  \n",
    "\n",
    "- [BERT Fine-Tuning Tutorial with PyTorch](https://mccormickml.com/2019/07/22/BERT-fine-tuning/).\n",
    "- [Hugging Faces - Github](https://github.com/huggingface/transformers) e [Hugging Faces - site](https://huggingface.co/)\n"
   ]
  },
  {
   "cell_type": "markdown",
   "metadata": {},
   "source": [
    "Primeiro, vamos verificar se temos GPU disponível para nossa execução. Não se preocupe caso não possua GPU, apenas o treinamento será mais demorado.\n",
    "\n",
    "Caso você esteja executando no Colab, acesse: Edit 🡒 Notebook Settings 🡒 Hardware accelerator 🡒 (GPU)"
   ]
  },
  {
   "cell_type": "code",
   "execution_count": 21,
   "metadata": {
    "pycharm": {
     "is_executing": false,
     "name": "#%%\n"
    }
   },
   "outputs": [
    {
     "name": "stdout",
     "output_type": "stream",
     "text": [
      "Sem GPU disponível, usando CPU.\n"
     ]
    }
   ],
   "source": [
    "import torch\n",
    "\n",
    "# Verificar se tem GPU disponível\n",
    "if torch.cuda.is_available():    \n",
    "\n",
    "    # Informa PyTorch para usar GPU\n",
    "    device = torch.device(\"cuda\")\n",
    "\n",
    "    print('Existe(m)  %d GPU(s) disponível(eis).' % torch.cuda.device_count())\n",
    "\n",
    "    print('Vamos usar a GPU:', torch.cuda.get_device_name(0))\n",
    "\n",
    "# If not...\n",
    "else:\n",
    "    print('Sem GPU disponível, usando CPU.')\n",
    "    device = torch.device(\"cpu\")"
   ]
  },
  {
   "cell_type": "markdown",
   "metadata": {},
   "source": [
    "### Biblioteca Transformers com *pytorch*\n",
    "\n",
    "Aqui vamos usar a interface *pytorch* porque possui um bom equilíbrio entre as APIs de alto nível (fáceis de usar, mas sem fornecer informações sobre como as coisas funcionam) e código de tensorflow (que contém muitos detalhes, mas não tão fáceis de usar).\n",
    "\n",
    "No momento, a biblioteca **Hugging Face** é a interface *pytorch* mais utilizada para trabalhar com BERT. Além de oferecer suporte a uma variedade de modelos pré-treinados, também inclui modelos especifalizados para tarefas específicas. Neste tutorial vamos usar *BertForSequenceClassification*.\n",
    "\n",
    "A biblioteca também inclui classes específicas de tarefas para classificação de *tokens*, resposta a perguntas (Q&A), previsão da próxima frase, etc. O uso dessas classes pré-construídas simplifica o processo de modificação de BERT para nossos propósitos."
   ]
  },
  {
   "cell_type": "code",
   "execution_count": 3,
   "metadata": {
    "pycharm": {
     "is_executing": false,
     "name": "#%%\n"
    }
   },
   "outputs": [],
   "source": [
    "# execute essa linha se estiver usando Colab\n",
    "#!pip install transformers\n",
    "!pip install transformers~=2.11.0\n"
   ]
  },
  {
   "cell_type": "markdown",
   "metadata": {
    "pycharm": {
     "name": "#%% md\n"
    }
   },
   "source": [
    "### Carregando o conjunto de dados (CoLA)\n",
    "\n",
    "Usaremos o conjunto de dados do *Corpus of Linguistic Acceptability (CoLA)* para a classificação de uma única frase. É um conjunto de frases rotuladas como gramaticalmente corretas ou incorretas. Foi publicado pela primeira vez em maio de 2018, e é um dos testes incluídos no “Benchmark GLUE” em que competem modelos como o BERT.\n",
    "\n",
    "Faça download do dataset neste link: https://nyu-mll.github.io/CoLA/ e descompacte o conjunto de dados na mesma pasta em que está trabalhando.\n",
    "\n",
    "Ou, se estiver no Colab, use o comando abaixo:\n"
   ]
  },
  {
   "cell_type": "code",
   "execution_count": null,
   "metadata": {},
   "outputs": [],
   "source": [
    "# Usaremos o wget para baixar o conjunto de dados para o sistema de arquivos da instância Colab.\n",
    "!pip install wget\n",
    "\n",
    "import wget\n",
    "import os\n",
    "\n",
    "print('Baixando dataset...')\n",
    "\n",
    "# The URL for the dataset zip file.\n",
    "url = 'https://nyu-mll.github.io/CoLA/cola_public_1.1.zip'\n",
    "\n",
    "# Download the file (if we haven't already)\n",
    "if not os.path.exists('./cola_public_1.1.zip'):\n",
    "    wget.download(url, './cola_public_1.1.zip')\n",
    "    \n",
    "# Unzip the dataset (if we haven't already)\n",
    "if not os.path.exists('./cola_public/'):\n",
    "    !unzip cola_public_1.1.zip"
   ]
  },
  {
   "cell_type": "markdown",
   "metadata": {
    "pycharm": {
     "is_executing": false,
     "name": "#%% md\n"
    }
   },
   "source": [
    "### Análise\n",
    "\n",
    "Podemos ver pelos nomes dos arquivos que temos as versões originais e as tokenizadas dos dados.\n",
    "\n",
    "Não vamos usar a versão pré-tokenizada porque, para aplicar o nosso modelo BERT pré-treinado, devemos usar o tokenizer fornecido pelo modelo. Isso porque (1) o modelo tem um vocabulário específico e fixo e (2) o tokenizador BERT tem uma maneira particular de lidar com palavras fora do vocabulário.\n",
    "\n",
    "Usaremos a biblioteca *pandas* para analisar o conjunto de treinamento e examinar algumas de suas propriedades."
   ]
  },
  {
   "cell_type": "code",
   "execution_count": 5,
   "metadata": {
    "pycharm": {
     "is_executing": false,
     "name": "#%%\n"
    }
   },
   "outputs": [
    {
     "name": "stdout",
     "output_type": "stream",
     "text": [
      "Número de sentenças de treinamento: 8,551\n",
      "\n"
     ]
    },
    {
     "data": {
      "text/html": [
       "<div>\n",
       "<style scoped>\n",
       "    .dataframe tbody tr th:only-of-type {\n",
       "        vertical-align: middle;\n",
       "    }\n",
       "\n",
       "    .dataframe tbody tr th {\n",
       "        vertical-align: top;\n",
       "    }\n",
       "\n",
       "    .dataframe thead th {\n",
       "        text-align: right;\n",
       "    }\n",
       "</style>\n",
       "<table border=\"1\" class=\"dataframe\">\n",
       "  <thead>\n",
       "    <tr style=\"text-align: right;\">\n",
       "      <th></th>\n",
       "      <th>sentence_source</th>\n",
       "      <th>label</th>\n",
       "      <th>label_notes</th>\n",
       "      <th>sentence</th>\n",
       "    </tr>\n",
       "  </thead>\n",
       "  <tbody>\n",
       "    <tr>\n",
       "      <th>2471</th>\n",
       "      <td>l-93</td>\n",
       "      <td>1</td>\n",
       "      <td>NaN</td>\n",
       "      <td>Sarah sang.</td>\n",
       "    </tr>\n",
       "    <tr>\n",
       "      <th>6427</th>\n",
       "      <td>d_98</td>\n",
       "      <td>1</td>\n",
       "      <td>NaN</td>\n",
       "      <td>All fugitives are in jail now.</td>\n",
       "    </tr>\n",
       "    <tr>\n",
       "      <th>3936</th>\n",
       "      <td>ks08</td>\n",
       "      <td>1</td>\n",
       "      <td>NaN</td>\n",
       "      <td>John coughed.</td>\n",
       "    </tr>\n",
       "    <tr>\n",
       "      <th>4404</th>\n",
       "      <td>ks08</td>\n",
       "      <td>0</td>\n",
       "      <td>*</td>\n",
       "      <td>There hopes to finish the project.</td>\n",
       "    </tr>\n",
       "    <tr>\n",
       "      <th>8284</th>\n",
       "      <td>ad03</td>\n",
       "      <td>0</td>\n",
       "      <td>*</td>\n",
       "      <td>Aphrodite wanted to live and Ishtar tried to do</td>\n",
       "    </tr>\n",
       "    <tr>\n",
       "      <th>5050</th>\n",
       "      <td>ks08</td>\n",
       "      <td>1</td>\n",
       "      <td>NaN</td>\n",
       "      <td>It surprised me that you came early.</td>\n",
       "    </tr>\n",
       "    <tr>\n",
       "      <th>4451</th>\n",
       "      <td>ks08</td>\n",
       "      <td>1</td>\n",
       "      <td>NaN</td>\n",
       "      <td>In no other circumstances does that distinctio...</td>\n",
       "    </tr>\n",
       "    <tr>\n",
       "      <th>2438</th>\n",
       "      <td>l-93</td>\n",
       "      <td>1</td>\n",
       "      <td>NaN</td>\n",
       "      <td>The lax supervision was taken advantage of.</td>\n",
       "    </tr>\n",
       "    <tr>\n",
       "      <th>173</th>\n",
       "      <td>cj99</td>\n",
       "      <td>0</td>\n",
       "      <td>*</td>\n",
       "      <td>The more obnoxious Fred, the less you should p...</td>\n",
       "    </tr>\n",
       "    <tr>\n",
       "      <th>6097</th>\n",
       "      <td>c_13</td>\n",
       "      <td>1</td>\n",
       "      <td>NaN</td>\n",
       "      <td>John left his wife.</td>\n",
       "    </tr>\n",
       "  </tbody>\n",
       "</table>\n",
       "</div>"
      ],
      "text/plain": [
       "     sentence_source  label label_notes  \\\n",
       "2471            l-93      1         NaN   \n",
       "6427            d_98      1         NaN   \n",
       "3936            ks08      1         NaN   \n",
       "4404            ks08      0           *   \n",
       "8284            ad03      0           *   \n",
       "5050            ks08      1         NaN   \n",
       "4451            ks08      1         NaN   \n",
       "2438            l-93      1         NaN   \n",
       "173             cj99      0           *   \n",
       "6097            c_13      1         NaN   \n",
       "\n",
       "                                               sentence  \n",
       "2471                                        Sarah sang.  \n",
       "6427                     All fugitives are in jail now.  \n",
       "3936                                      John coughed.  \n",
       "4404                 There hopes to finish the project.  \n",
       "8284    Aphrodite wanted to live and Ishtar tried to do  \n",
       "5050               It surprised me that you came early.  \n",
       "4451  In no other circumstances does that distinctio...  \n",
       "2438        The lax supervision was taken advantage of.  \n",
       "173   The more obnoxious Fred, the less you should p...  \n",
       "6097                                John left his wife.  "
      ]
     },
     "execution_count": 5,
     "metadata": {},
     "output_type": "execute_result"
    }
   ],
   "source": [
    "import pandas as pd\n",
    "\n",
    "# Load the dataset into a pandas dataframe.\n",
    "#df = pd.read_csv(\"./cola_public/raw/in_domain_train.tsv\", delimiter='\\t', header=None, names=['sentence_source', 'label', 'label_notes', 'sentence'])\n",
    "df = pd.read_csv(r\"C:\\Users\\lisat\\OneDrive\\cola_public_1.1\\cola_public\\raw\\in_domain_train.tsv\", delimiter='\\t', header=None, names=['sentence_source', 'label', 'label_notes', 'sentence'])\n",
    "\n",
    "# Report the number of sentences.\n",
    "print('Número de sentenças de treinamento: {:,}\\n'.format(df.shape[0]))\n",
    "\n",
    "# Display 10 random rows from the data.\n",
    "df.sample(10)"
   ]
  },
  {
   "cell_type": "markdown",
   "metadata": {
    "pycharm": {
     "name": "#%% md\n"
    }
   },
   "source": [
    "As duas propriedades com as quais realmente nos importamos são as frases (*sentence*) e seus rótulos (*label*), que podem ser 0 = incorreta, 1 = correta.\n",
    "\n",
    "Aqui estão cinco frases que são rotuladas como incorretas (gramaticalmente). Observe como essa tarefa é muito mais difícil do que algo como análise de sentimento!"
   ]
  },
  {
   "cell_type": "code",
   "execution_count": 6,
   "metadata": {},
   "outputs": [
    {
     "data": {
      "text/html": [
       "<div>\n",
       "<style scoped>\n",
       "    .dataframe tbody tr th:only-of-type {\n",
       "        vertical-align: middle;\n",
       "    }\n",
       "\n",
       "    .dataframe tbody tr th {\n",
       "        vertical-align: top;\n",
       "    }\n",
       "\n",
       "    .dataframe thead th {\n",
       "        text-align: right;\n",
       "    }\n",
       "</style>\n",
       "<table border=\"1\" class=\"dataframe\">\n",
       "  <thead>\n",
       "    <tr style=\"text-align: right;\">\n",
       "      <th></th>\n",
       "      <th>sentence</th>\n",
       "      <th>label</th>\n",
       "    </tr>\n",
       "  </thead>\n",
       "  <tbody>\n",
       "    <tr>\n",
       "      <th>3265</th>\n",
       "      <td>Bill dried at the clothes.</td>\n",
       "      <td>0</td>\n",
       "    </tr>\n",
       "    <tr>\n",
       "      <th>4262</th>\n",
       "      <td>Seems John to fix the computer.</td>\n",
       "      <td>0</td>\n",
       "    </tr>\n",
       "    <tr>\n",
       "      <th>1172</th>\n",
       "      <td>I know a man who John is as tall as is.</td>\n",
       "      <td>0</td>\n",
       "    </tr>\n",
       "    <tr>\n",
       "      <th>7669</th>\n",
       "      <td>John convinced that Bill has slept.</td>\n",
       "      <td>0</td>\n",
       "    </tr>\n",
       "    <tr>\n",
       "      <th>5643</th>\n",
       "      <td>The in loved peanut butter cookies.</td>\n",
       "      <td>0</td>\n",
       "    </tr>\n",
       "  </tbody>\n",
       "</table>\n",
       "</div>"
      ],
      "text/plain": [
       "                                     sentence  label\n",
       "3265               Bill dried at the clothes.      0\n",
       "4262          Seems John to fix the computer.      0\n",
       "1172  I know a man who John is as tall as is.      0\n",
       "7669      John convinced that Bill has slept.      0\n",
       "5643      The in loved peanut butter cookies.      0"
      ]
     },
     "execution_count": 6,
     "metadata": {},
     "output_type": "execute_result"
    }
   ],
   "source": [
    "df.loc[df.label == 0].sample(5)[['sentence', 'label']]\n"
   ]
  },
  {
   "cell_type": "markdown",
   "metadata": {},
   "source": [
    "Vamos extrair as frases e seus rótulos do nosso corpus de treinamento como *numpy ndarrays*."
   ]
  },
  {
   "cell_type": "code",
   "execution_count": 7,
   "metadata": {
    "pycharm": {
     "is_executing": false,
     "name": "#%%\n"
    }
   },
   "outputs": [],
   "source": [
    "# Lista de sentenças e seus rótulos\n",
    "sentences = df.sentence.values\n",
    "labels = df.label.values"
   ]
  },
  {
   "cell_type": "markdown",
   "metadata": {
    "pycharm": {
     "name": "#%% md\n"
    }
   },
   "source": [
    "### Tokenização\n",
    "\n",
    "Agora vamos transformar nosso conjunto de dados no formato em que o BERT pode ser treinado.\n",
    "\n",
    "Para alimentar o BERT com nosso texto, ele deve ser dividido em *tokens* e, em seguida, esses *tokens* devem ser mapeados para seu índice no vocabulário do tokenizador.\n",
    "\n",
    "A tokenização deve ser realizada pelo tokenizador incluído no modelo BERT que estamos trabalhando, que vamos baixar no código abaixo."
   ]
  },
  {
   "cell_type": "code",
   "execution_count": 8,
   "metadata": {
    "pycharm": {
     "is_executing": false,
     "name": "#%%\n"
    }
   },
   "outputs": [
    {
     "name": "stdout",
     "output_type": "stream",
     "text": [
      "Carregando tokenizador BERT...\n"
     ]
    }
   ],
   "source": [
    "from transformers import BertTokenizer\n",
    "\n",
    "# Carregar o tokenizador BERT.\n",
    "print('Carregando tokenizador BERT...')\n",
    "tokenizer = BertTokenizer.from_pretrained('bert-base-uncased', do_lower_case=True)"
   ]
  },
  {
   "cell_type": "markdown",
   "metadata": {
    "pycharm": {
     "is_executing": false,
     "name": "#%% md\n"
    }
   },
   "source": [
    "Vamos aplicar o tokenizer a uma frase apenas para ver a saída."
   ]
  },
  {
   "cell_type": "code",
   "execution_count": 9,
   "metadata": {
    "pycharm": {
     "is_executing": false,
     "name": "#%% \n"
    }
   },
   "outputs": [
    {
     "name": "stdout",
     "output_type": "stream",
     "text": [
      " Original:  Our friends won't buy this analysis, let alone the next one we propose.\n",
      "Tokenizada:  ['our', 'friends', 'won', \"'\", 't', 'buy', 'this', 'analysis', ',', 'let', 'alone', 'the', 'next', 'one', 'we', 'propose', '.']\n",
      "Token IDs:  [2256, 2814, 2180, 1005, 1056, 4965, 2023, 4106, 1010, 2292, 2894, 1996, 2279, 2028, 2057, 16599, 1012]\n"
     ]
    }
   ],
   "source": [
    "# Frase original\n",
    "print(' Original: ', sentences[0])\n",
    "\n",
    "# Frase dividida em tokens\n",
    "print('Tokenizada: ', tokenizer.tokenize(sentences[0]))\n",
    "\n",
    "# Sentença mapeada em token ids\n",
    "print('Token IDs: ', tokenizer.convert_tokens_to_ids(tokenizer.tokenize(sentences[0])))"
   ]
  },
  {
   "cell_type": "markdown",
   "metadata": {
    "pycharm": {
     "name": "#%% md\n"
    }
   },
   "source": [
    "Quando realmente convertermos todas as nossas sentenças, usaremos a função ´´´tokenize.encode´´´ para lidar com ambas as etapas, em vez de chamar as funções que usamos acima separadamente.\n",
    "\n",
    "Antes de fazermos isso, precisamos falar sobre alguns dos requisitos de formatação do BERT.\n",
    "\n",
    "### Formatação\n",
    "\n",
    "O código acima omitiu algumas etapas de formatação necessárias que veremos aqui.\n",
    "\n",
    "Precisamos:\n",
    "1. Adicione *tokens* especiais no início e fim de cada frase.\n",
    "2. Agrupar e truncar todas as frases para terem o mesmo comprimento.\n",
    "3. Diferenciar explicitamente *tokens* reais de *tokens* de preenchimento com a “máscara de atenção”.\n",
    "\n",
    "**Tokens especiais**\n",
    "[SEP] - No final de cada frase, precisamos acrescentar o token especial [SEP], que é usado em tarefas de duas sentenças, onde BERT recebe duas sentenças separadas e é solicitado a determinar algo (por exemplo, a resposta à pergunta na sentença A pode ser encontrada na sentença B).\n",
    "\n",
    "[CLS] - Para tarefas de classificação, devemos acrescentar o [CLS] ao início de cada frase. Como o BERT consiste em 12 camadas de Tranformer, cada uma recebe uma lista de *embeddings* e produz o mesmo número de *embeddings* na saída (com outros valores), na saída do transformador final (12º), apenas o primeiro *embedding* (correspondente ao *token* [CLS]) é usado pelo classificador .\n",
    "\n",
    "“O primeiro *token* de cada sequência é sempre um *token* de classificação especial ([CLS]), onde o estado oculto final deste *token* é usado como a representação da sequência agregada para tarefas de classificação.” (do artigo BERT)\n",
    "\n",
    "Não precisamos pensar em estratégias de *pool* sobre os *embeddings* finais, pois nesse token [CLS] de classificação, o modelo codificou tudo o que precisamos para a classificação naquele único vetor de incorporação de 768 valores. Já está feito o *pool* para nós!\n",
    "\n",
    "*Comprimento da frase e máscara de atenção*\n",
    "\n",
    "As sentenças em nosso conjunto de dados obviamente têm comprimentos variados, então como o BERT lida com isso?\n",
    "\n",
    "BERT tem duas restrições:\n",
    "\n",
    "- Todas as frases devem ser preenchidas ou truncadas em um único comprimento fixo.\n",
    "- O comprimento máximo da frase é 512 *tokens*.\n",
    "\n",
    "O preenchimento é feito com um *token* especial [PAD], que está no índice 0 no vocabulário BERT.\n",
    "\n",
    "A “Máscara de Atenção” é simplesmente uma matriz de 1s e 0s indicando quais *tokens* estão preenchendo e quais não estão (parece meio redundante, não é ?). Essa máscara diz ao mecanismo de “Autoatenção” do BERT para não incorporar esses *tokens* (PAD) em sua interpretação da frase.\n",
    "\n",
    "O comprimento máximo afeta a velocidade de treinamento e avaliação. Por exemplo, com um Tesla K80:\n",
    "\n",
    "MAX_LEN = 128 --> Cada época leva ~5:28 para treinar\n",
    "\n",
    "MAX_LEN = 64 --> Cada época leva ~2:57 para treinar\n",
    "\n",
    "**Tokenizar o conjunto de dados**\n",
    "\n",
    "A biblioteca Transformers fornece uma função ´´´encode´´´ útil que tratará da maioria das etapas de análise e preparação de dados para nós.\n",
    "\n",
    "Antes de estarmos prontos para codificar nosso texto, no entanto, precisamos decidir sobre o comprimento máximo de frase para preenchimento ou truncamento.\n",
    "\n",
    "A célula abaixo realizará uma passagem de tokenização do conjunto de dados para medir o comprimento máximo da frase."
   ]
  },
  {
   "cell_type": "code",
   "execution_count": 10,
   "metadata": {
    "pycharm": {
     "is_executing": false,
     "name": "#%%\n"
    }
   },
   "outputs": [
    {
     "name": "stdout",
     "output_type": "stream",
     "text": [
      "Frase com tamanho máximo:  47\n"
     ]
    }
   ],
   "source": [
    "max_len = 0\n",
    "\n",
    "# Para cada frase\n",
    "for sent in sentences:\n",
    "\n",
    "    # Tokeniza o texti e adiciona os tokens `[CLS]` e `[SEP]`\n",
    "    input_ids = tokenizer.encode(sent, add_special_tokens=True)\n",
    "\n",
    "    # Atualiza o comprimento máximo da frase\n",
    "    max_len = max(max_len, len(input_ids))\n",
    "\n",
    "print('Frase com tamanho máximo: ', max_len)"
   ]
  },
  {
   "cell_type": "markdown",
   "metadata": {
    "pycharm": {
     "name": "#%% md\n"
    }
   },
   "source": [
    "Para o caso de haver algumas sentenças mais longas no conjunto de teste, o comprimento máximo será de 64.\n",
    "\n",
    "Agora estamos prontos para realizar a tokenização.\n",
    "\n",
    "A função ´´´tokenizer.encode_plus´´´ realiza várias etapas para nós:\n",
    "\n",
    "1. Divide a frase em *tokens*.\n",
    "2. Adiciona os *tokens* especiais [CLS] e [SEP].\n",
    "3. Mapeia os *tokens* para seus IDs.\n",
    "4. Preenche ou trunca todas as frases com o mesmo comprimento.\n",
    "5. Cria as máscaras de atenção que diferenciam explicitamente *tokens* reais de *tokens* [PAD].\n",
    "\n",
    "As primeiras quatro etapas são realizadas pela função ´´´tokenizer.encode´´´, mas vamos usar a ´´´tokenizer.encode_plus´´´ para a quinta etapa (máscaras de atenção). [Documentação aqui](https://huggingface.co/transformers/main_classes/tokenizer.html?highlight=encode_plus#transformers.PreTrainedTokenizer.encode_plus)"
   ]
  },
  {
   "cell_type": "code",
   "execution_count": 11,
   "metadata": {
    "pycharm": {
     "is_executing": false,
     "name": "#%%\n"
    }
   },
   "outputs": [
    {
     "name": "stderr",
     "output_type": "stream",
     "text": [
      "Truncation was not explicitly activated but `max_length` is provided a specific value, please use `truncation=True` to explicitly truncate examples to max length. Defaulting to 'longest_first' truncation strategy. If you encode pairs of sequences (GLUE-style) with the tokenizer you can select this strategy more precisely by providing a specific strategy to `truncation`.\n",
      "C:\\Users\\lisat\\anaconda3\\envs\\torch\\lib\\site-packages\\transformers\\tokenization_utils_base.py:2136: FutureWarning: The `pad_to_max_length` argument is deprecated and will be removed in a future version, use `padding=True` or `padding='longest'` to pad to the longest sequence in the batch, or use `padding='max_length'` to pad to a max length. In this case, you can give a specific length with `max_length` (e.g. `max_length=45`) or leave max_length to None to pad to the maximal input size of the model (e.g. 512 for Bert).\n",
      "  warnings.warn(\n"
     ]
    },
    {
     "name": "stdout",
     "output_type": "stream",
     "text": [
      "Original:  Our friends won't buy this analysis, let alone the next one we propose.\n",
      "Token IDs: tensor([  101,  2256,  2814,  2180,  1005,  1056,  4965,  2023,  4106,  1010,\n",
      "         2292,  2894,  1996,  2279,  2028,  2057, 16599,  1012,   102,     0,\n",
      "            0,     0,     0,     0,     0,     0,     0,     0,     0,     0,\n",
      "            0,     0,     0,     0,     0,     0,     0,     0,     0,     0,\n",
      "            0,     0,     0,     0,     0,     0,     0,     0,     0,     0,\n",
      "            0,     0,     0,     0,     0,     0,     0,     0,     0,     0,\n",
      "            0,     0,     0,     0])\n"
     ]
    }
   ],
   "source": [
    "# Tokeniza todas as frases e mapeia os tokens em seus IDs\n",
    "input_ids = []\n",
    "attention_masks = []\n",
    "\n",
    "# Para cada frase\n",
    "for sent in sentences:\n",
    "    # `encode_plus` fará o seguinte:\n",
    "    #   (1) Tokeniza a frase\n",
    "    #   (2) Adiciona o token `[CLS]` no inicio\n",
    "    #   (3) Adiciona o token `[SEP]` no final\n",
    "    #   (4) Mapeia os tokens em seus IDs.\n",
    "    #   (5) Adiciona preenchimento (pad) ou trunca a frase atá o comprimento máximo (`max_length`)\n",
    "    #   (6) Create attention masks for [PAD] tokens.\n",
    "    encoded_dict = tokenizer.encode_plus(\n",
    "                        sent,                      # Frase a ser codificada\n",
    "                        add_special_tokens = True, # Adiciona '[CLS]' e '[SEP]'\n",
    "                        max_length = 64,           # Preenche & trunca todas as frases\n",
    "                        pad_to_max_length = True,\n",
    "                        return_attention_mask = True,   # Constrói máscaras de atenção\n",
    "                        return_tensors = 'pt',     # Returna tensores pytorch.\n",
    "                   )\n",
    "    \n",
    "    # Adiciona a frase codificada na lista\n",
    "    input_ids.append(encoded_dict['input_ids'])\n",
    "    \n",
    "    # E sua máscara de atenção (simplesmente diferencia tokens reais de tokens de preenchimento - PAD).\n",
    "    attention_masks.append(encoded_dict['attention_mask'])\n",
    "\n",
    "# Converte a lista em tensores\n",
    "input_ids = torch.cat(input_ids, dim=0)\n",
    "attention_masks = torch.cat(attention_masks, dim=0)\n",
    "labels = torch.tensor(labels)\n",
    "\n",
    "# Imprime frase 0, agora como uma lista de IDs.\n",
    "print('Original: ', sentences[0])\n",
    "print('Token IDs:', input_ids[0])"
   ]
  },
  {
   "cell_type": "markdown",
   "metadata": {
    "pycharm": {
     "name": "#%% md\n"
    }
   },
   "source": [
    "### Divisão dos dados - treinamento e validação\n",
    "\n",
    "Precisamos agora dividir nosso conjunto de treinamento, em 90% para treinamento e 10% para validação.\n"
   ]
  },
  {
   "cell_type": "code",
   "execution_count": 12,
   "metadata": {
    "pycharm": {
     "is_executing": false,
     "name": "#%%\n"
    }
   },
   "outputs": [
    {
     "name": "stdout",
     "output_type": "stream",
     "text": [
      "7,695 isntâncias de treinamento\n",
      "  856 instâncias de validação\n"
     ]
    }
   ],
   "source": [
    "from torch.utils.data import TensorDataset, random_split\n",
    "\n",
    "# Combina as entradas de treinamento em um TensorDataset.\n",
    "dataset = TensorDataset(input_ids, attention_masks, labels)\n",
    "\n",
    "# Criar uma divisão 90-10 para treinamento-validação.\n",
    "\n",
    "# Calcula o número de instâncias para incluir em cada divisão\n",
    "train_size = int(0.9 * len(dataset))\n",
    "val_size = len(dataset) - train_size\n",
    "\n",
    "# Divide o dataset pegando randomicamente as instância \n",
    "train_dataset, val_dataset = random_split(dataset, [train_size, val_size])\n",
    "\n",
    "print('{:>5,} isntâncias de treinamento'.format(train_size))\n",
    "print('{:>5,} instâncias de validação'.format(val_size))"
   ]
  },
  {
   "cell_type": "markdown",
   "metadata": {},
   "source": [
    "Vamos criar um iterador para nosso conjunto de dados usando a classe DataLoader, para economizar memória durante o treinamento, visto que, ao contrário de um *loop* com *for*, com o iterador o conjunto de dados inteiro não precisa ser carregado na memória."
   ]
  },
  {
   "cell_type": "code",
   "execution_count": 13,
   "metadata": {},
   "outputs": [],
   "source": [
    "from torch.utils.data import DataLoader, RandomSampler, SequentialSampler\n",
    "\n",
    "# O DataLoader precisa saber no tamanho do batch size para treinamento, então vamos espeficiar\n",
    "# Para o fine-tuning em uma tarefa, os autores recomendam um batch size de 16 ou 32.\n",
    "batch_size = 16\n",
    "\n",
    "# Criar os DataLoaders para nossos conjuntos de treinamento e teste\n",
    "# Vamos pegar instâncias de treinamento em ordem aleatória\n",
    "train_dataloader = DataLoader(\n",
    "            train_dataset,  # Exemplos de treinamento\n",
    "            sampler = RandomSampler(train_dataset), # Seleciona batches aleatoriamente\n",
    "            batch_size = batch_size # Treina com este batch size.\n",
    "        )\n",
    "\n",
    "# Para validação, a ordem não importa, então vamos mantê-la sequencial\n",
    "validation_dataloader = DataLoader(\n",
    "            val_dataset, # Exemplos de validação.\n",
    "            sampler = SequentialSampler(val_dataset), # Execita os batches sequencialmente.\n",
    "            batch_size = batch_size # Avalia com este batch size.\n",
    "        )"
   ]
  },
  {
   "cell_type": "markdown",
   "metadata": {},
   "source": [
    "## Modelo de classificação##\n",
    "\n",
    "Agora que nossos dados de entrada estão formatados corretamente, é hora de ajustar o modelo de BERT.\n",
    "\n",
    "### BertForSequenceClassification\n",
    "\n",
    "Para a tarefa de classificação, vamos modificar o modelo BERT pré-treinado para fornecer saídas para classificação e, em seguida, treinar todo modelo em nosso conjunto de dados até que esteja especializado para nossa tarefa.\n",
    "\n",
    "Felizmente, a implementação do Hugging Face *pytorch* inclui um conjunto de interfaces projetadas para uma variedade de tarefas de PLN. Embora essas interfaces sejam todas construídas em cima de um modelo BERT treinado, cada uma tem diferentes camadas superiores e tipos de saída projetados para nossa tarefa PNL específica.\n",
    "\n",
    "Aqui está a lista atual de classes fornecidas para a especialização da tarefa (ajuste fino ou *fine tuning*):\n",
    "\n",
    "1. BertModel\n",
    "1. BertForPreTraining\n",
    "1. BertForMaskedLM\n",
    "1. BertForNextSentencePrediction\n",
    "1. BertForSequenceClassification (**usaremos aqui**)\n",
    "1. BertForTokenClassification\n",
    "1. BertForQuestionAnswering\n",
    "\n",
    "A documentação para eles pode ser encontrada [aqui](https://huggingface.co/transformers/v2.2.0/model_doc/bert.html).\n",
    "\n",
    "Estaremos usando *BertForSequenceClassification*, modelo BERT com uma camada linear única adicionada no topo para classificação, que será usado como um classificador de frases. À medida que alimentamos os dados de entrada, todo o modelo BERT pré-treinado e a camada adicional de classificação não treinada serão treinados em nossa tarefa específica.\n",
    "\n",
    "OK, vamos carregar o BERT! Existem alguns modelos diferentes de BERT pré-treinados disponíveis. “bert-base-uncased” significa a versão que tem apenas letras minúsculas (“sem caixa”) e é a versão menor das duas (“base” vs “large”).\n",
    "\n",
    "A documentação do método ```from_pretrained``` pode ser encontrada [aqui](https://huggingface.co/transformers/v2.2.0/main_classes/model.html#transformers.PreTrainedModel.from_pretrained), com os parâmetros adicionais definidos [aqui](https://huggingface.co/transformers/v2.2.0/main_classes/configuration.html#transformers.PretrainedConfig)."
   ]
  },
  {
   "cell_type": "code",
   "execution_count": 14,
   "metadata": {},
   "outputs": [
    {
     "name": "stderr",
     "output_type": "stream",
     "text": [
      "Some weights of the model checkpoint at bert-base-uncased were not used when initializing BertForSequenceClassification: ['cls.predictions.bias', 'cls.predictions.transform.dense.weight', 'cls.predictions.transform.dense.bias', 'cls.predictions.decoder.weight', 'cls.seq_relationship.weight', 'cls.seq_relationship.bias', 'cls.predictions.transform.LayerNorm.weight', 'cls.predictions.transform.LayerNorm.bias']\n",
      "- This IS expected if you are initializing BertForSequenceClassification from the checkpoint of a model trained on another task or with another architecture (e.g. initializing a BertForSequenceClassification model from a BertForPreTraining model).\n",
      "- This IS NOT expected if you are initializing BertForSequenceClassification from the checkpoint of a model that you expect to be exactly identical (initializing a BertForSequenceClassification model from a BertForSequenceClassification model).\n",
      "Some weights of BertForSequenceClassification were not initialized from the model checkpoint at bert-base-uncased and are newly initialized: ['classifier.weight', 'classifier.bias']\n",
      "You should probably TRAIN this model on a down-stream task to be able to use it for predictions and inference.\n"
     ]
    }
   ],
   "source": [
    "from transformers import BertForSequenceClassification, AdamW, BertConfig\n",
    "\n",
    "# Carrega a classe BertForSequenceClassification, o modelo pre-treinado com uma camada linear simples no topo\n",
    "model = BertForSequenceClassification.from_pretrained(\n",
    "    \"bert-base-uncased\", # Usa o BERT com 12 camadas, com vocabulario com caixa baixa\n",
    "    num_labels = 2, # O número de saídas, ou rótulos, do nosso modelo (classificação binária em nosso caso)\n",
    "                    # Para tarefas com mais classes (multi-classe), podemos aumentar esse número\n",
    "    output_attentions = False, # Se o modelo deve retornar os pesos de atenção\n",
    "    output_hidden_states = False, # Se o modelo deve retornar todos estados escondidos\n",
    ")\n",
    "\n",
    "# Se você tem GPU, configura o pytorch para executar o modelo na GPU\n",
    "#model.cuda()"
   ]
  },
  {
   "cell_type": "markdown",
   "metadata": {},
   "source": [
    "Apenas por curiosidade, podemos navegar por todos os parâmetros do modelo.\n",
    "\n",
    "Na célula abaixo, imprimimos os nomes e dimensões dos pesos para:\n",
    "\n",
    "1. A camada de incorporação.\n",
    "1. O primeiro dos doze transformadores.\n",
    "1. A camada de saída."
   ]
  },
  {
   "cell_type": "code",
   "execution_count": 15,
   "metadata": {},
   "outputs": [
    {
     "name": "stdout",
     "output_type": "stream",
     "text": [
      "O modelo BERT tem 201 parâmetros diferentes.\n",
      "\n",
      "==== Camada de incorporação (Embedding) ====\n",
      "\n",
      "bert.embeddings.word_embeddings.weight                  (30522, 768)\n",
      "bert.embeddings.position_embeddings.weight                (512, 768)\n",
      "bert.embeddings.token_type_embeddings.weight                (2, 768)\n",
      "bert.embeddings.LayerNorm.weight                              (768,)\n",
      "bert.embeddings.LayerNorm.bias                                (768,)\n",
      "\n",
      "==== Primeiro Transformer ====\n",
      "\n",
      "bert.encoder.layer.0.attention.self.query.weight          (768, 768)\n",
      "bert.encoder.layer.0.attention.self.query.bias                (768,)\n",
      "bert.encoder.layer.0.attention.self.key.weight            (768, 768)\n",
      "bert.encoder.layer.0.attention.self.key.bias                  (768,)\n",
      "bert.encoder.layer.0.attention.self.value.weight          (768, 768)\n",
      "bert.encoder.layer.0.attention.self.value.bias                (768,)\n",
      "bert.encoder.layer.0.attention.output.dense.weight        (768, 768)\n",
      "bert.encoder.layer.0.attention.output.dense.bias              (768,)\n",
      "bert.encoder.layer.0.attention.output.LayerNorm.weight        (768,)\n",
      "bert.encoder.layer.0.attention.output.LayerNorm.bias          (768,)\n",
      "bert.encoder.layer.0.intermediate.dense.weight           (3072, 768)\n",
      "bert.encoder.layer.0.intermediate.dense.bias                 (3072,)\n",
      "bert.encoder.layer.0.output.dense.weight                 (768, 3072)\n",
      "bert.encoder.layer.0.output.dense.bias                        (768,)\n",
      "bert.encoder.layer.0.output.LayerNorm.weight                  (768,)\n",
      "bert.encoder.layer.0.output.LayerNorm.bias                    (768,)\n",
      "\n",
      "==== Camada de Saída ====\n",
      "\n",
      "bert.pooler.dense.weight                                  (768, 768)\n",
      "bert.pooler.dense.bias                                        (768,)\n",
      "classifier.weight                                           (2, 768)\n",
      "classifier.bias                                                 (2,)\n"
     ]
    }
   ],
   "source": [
    "# Lista todos os paremtros do modelo como uma lista de tuplas\n",
    "params = list(model.named_parameters())\n",
    "\n",
    "print('O modelo BERT tem {:} parâmetros diferentes.\\n'.format(len(params)))\n",
    "\n",
    "print('==== Camada de incorporação (Embedding) ====\\n')\n",
    "\n",
    "for p in params[0:5]:\n",
    "    print(\"{:<55} {:>12}\".format(p[0], str(tuple(p[1].size()))))\n",
    "\n",
    "print('\\n==== Primeiro Transformer ====\\n')\n",
    "\n",
    "for p in params[5:21]:\n",
    "    print(\"{:<55} {:>12}\".format(p[0], str(tuple(p[1].size()))))\n",
    "\n",
    "print('\\n==== Camada de Saída ====\\n')\n",
    "\n",
    "for p in params[-4:]:\n",
    "    print(\"{:<55} {:>12}\".format(p[0], str(tuple(p[1].size()))))"
   ]
  },
  {
   "cell_type": "markdown",
   "metadata": {},
   "source": [
    "## Otimizador e taxas de aprendizagem ##\n",
    "\n",
    "Agora que carregamos nosso modelo, precisamos pegar os hiperparâmetros de treinamento de dentro do modelo armazenado.\n",
    "\n",
    "Para fins de ajuste fino, os autores recomendam escolher entre os seguintes valores (do Apêndice A.3 do artigo de BERT ):\n",
    "\n",
    "1. Tamanho do lote (*batch size*): 16, 32\n",
    "1. Taxa de aprendizagem (*Adam*): 5e-5, 3e-5, 2e-5\n",
    "1. Número de épocas: 2, 3, 4\n",
    "\n",
    "Aqui vamos usar:\n",
    "\n",
    "1. Tamanho do lote: 16 (definido ao criar nossos *DataLoaders*)\n",
    "1. Taxa de aprendizagem: 2e-5\n",
    "1. Épocas: 4 (veremos que provavelmente são muitas ...)\n",
    "\n",
    "O parâmetro ```eps = 1e-8``` é “um número muito pequeno para evitar qualquer divisão por zero na implementação” (leia mais [aqui](https://machinelearningmastery.com/adam-optimization-algorithm-for-deep-learning/)).\n",
    "\n",
    "Você pode encontrar a criação do otimizador *AdamW* em ```run_glue.py``` [aqui](https://github.com/huggingface/transformers/blob/5bfcd0485ece086ebcbed2d008813037968a9e58/examples/run_glue.py#L109)."
   ]
  },
  {
   "cell_type": "code",
   "execution_count": 16,
   "metadata": {},
   "outputs": [],
   "source": [
    "# Nota: AdamW é uma classe da biblioteca huggingface\n",
    "# Provavelmente o 'W' é de 'Weight Decay fix\" ('Correção de redução de peso \")\n",
    "optimizer = AdamW(model.parameters(),\n",
    "                  lr = 2e-5, # args.learning_rate - o padrão é  5e-5, aqui usamos 2e-5\n",
    "                  eps = 1e-8 # args.adam_epsilon  - o padrão é 1e-8.\n",
    "                )"
   ]
  },
  {
   "cell_type": "code",
   "execution_count": 17,
   "metadata": {},
   "outputs": [],
   "source": [
    "from transformers import get_linear_schedule_with_warmup\n",
    "\n",
    "# Número de épocas de treinamento. Os autores do BERT recomendam entre 2 a 4. \n",
    "# Nós escolhemos 4, mas vamos ver depois que isso pode estar causando overfit nos dados de treinamento\n",
    "epochs = 4\n",
    "\n",
    "# Número total de passos de treinamento é [número de batches] x [número de épocas]. \n",
    "# (Note que não é o mesmo que o número de instâncias de treinamento).\n",
    "total_steps = len(train_dataloader) * epochs\n",
    "\n",
    "# Criando o programador de taxa de aprendizagem (learning rate scheduler.)\n",
    "scheduler = get_linear_schedule_with_warmup(optimizer, \n",
    "                                            num_warmup_steps = 0, # Valor padrão no run_glue.py\n",
    "                                            num_training_steps = total_steps)"
   ]
  },
  {
   "cell_type": "markdown",
   "metadata": {},
   "source": [
    "## *Loop* de treinamento ##\n",
    "\n",
    "Abaixo está o nosso *loop* de treinamento. Há muita coisa acontecendo, mas fundamentalmente para cada passagem em nosso *loop*, temos uma fase de treinamento e uma fase de validação.\n",
    "\n",
    "**Treinamento:**\n",
    "\n",
    "1. Descompacta nossas entradas (dados e rótulos)\n",
    "1. Carrega dados na GPU para aceleração (quando necessário)\n",
    "1. Limpa os gradientes calculados na passagem anterior.\n",
    "(No *pytorch*, os gradientes se acumulam por padrão (útil para coisas como RNNs), a menos que a gente limpe explicitamente)\n",
    "1. Passo *Forward* (avanço), alimentando os dados de entrada pela rede\n",
    "1. Passo *Backward* (para trás), ou retropropagação\n",
    "1. Informa a rede para atualizar os parâmetros com ```optimizer.step ()```\n",
    "1. Rastreia variáveis para monitorar o progresso\n",
    "\n",
    "**Avaliação:**\n",
    "\n",
    "1. Descompacta nossas entradas (dados e rótulos)\n",
    "1. Carrega dados na GPU para aceleração (quando necessário)\n",
    "1. Passo *Forward* (avanço), alimentando os dados de entrada pela rede\n",
    "1. Calcula a perda (*loss*) em nossos dados de validação e rastreie variáveis para monitorar o progresso\n",
    "\n",
    "*Pytorch* esconde todos os cálculos detalhados, mas comentamos o código para apontar quais das etapas acima estão acontecendo em cada linha.\n",
    "\n",
    "No código abaixo, definimos uma função auxiliar para calcular a precisão."
   ]
  },
  {
   "cell_type": "code",
   "execution_count": 18,
   "metadata": {},
   "outputs": [],
   "source": [
    "import numpy as np\n",
    "\n",
    "# Função para caluclar a acurácia das nossas perdições x rótulos\n",
    "def flat_accuracy(preds, labels):\n",
    "    pred_flat = np.argmax(preds, axis=1).flatten()\n",
    "    labels_flat = labels.flatten()\n",
    "    return np.sum(pred_flat == labels_flat) / len(labels_flat)"
   ]
  },
  {
   "cell_type": "markdown",
   "metadata": {},
   "source": [
    "Função auxiliar para formatar o tempo decorrido (hh:mm:ss)"
   ]
  },
  {
   "cell_type": "code",
   "execution_count": 19,
   "metadata": {},
   "outputs": [],
   "source": [
    "import time\n",
    "import datetime\n",
    "\n",
    "def format_time(elapsed):\n",
    "    '''\n",
    "    Pega o tempo em segundos e retorna como hh:mm:ss\n",
    "    '''\n",
    "    # Arredonda\n",
    "    elapsed_rounded = int(round((elapsed)))\n",
    "    \n",
    "    # Formata como hh:mm:ss\n",
    "    return str(datetime.timedelta(seconds=elapsed_rounded))"
   ]
  },
  {
   "cell_type": "markdown",
   "metadata": {},
   "source": [
    "Estamos prontos para começar o treinamento!"
   ]
  },
  {
   "cell_type": "code",
   "execution_count": 27,
   "metadata": {},
   "outputs": [
    {
     "name": "stdout",
     "output_type": "stream",
     "text": [
      "\n",
            "======== Época 1 / 4 ========\n",
            "Treinando...\n",
            "  Batch    40  de    241.    Tempo: 0:00:09.\n",
            "  Batch    80  de    241.    Tempo: 0:00:18.\n",
            "  Batch   120  de    241.    Tempo: 0:00:26.\n",
            "  Batch   160  de    241.    Tempo: 0:00:35.\n",
            "  Batch   200  de    241.    Tempo: 0:00:44.\n",
            "  Batch   240  de    241.    Tempo: 0:00:52.\n",
            "\n",
            "  Perda média do treinamento: 0.09\n",
            "  época de treinamento levou : 0:00:53\n",
            "\n",
            "Executando Validação...\n",
            "  Acurácia: 0.81\n",
            "  Validação perda (Loss): 0.63\n",
            "  Validação levou: 0:00:02\n",
            "\n",
            "======== Época 2 / 4 ========\n",
            "Treinando...\n",
            "  Batch    40  de    241.    Tempo: 0:00:09.\n",
            "  Batch    80  de    241.    Tempo: 0:00:17.\n",
            "  Batch   120  de    241.    Tempo: 0:00:26.\n",
            "  Batch   160  de    241.    Tempo: 0:00:35.\n",
            "  Batch   200  de    241.    Tempo: 0:00:43.\n",
            "  Batch   240  de    241.    Tempo: 0:00:52.\n",
            "\n",
            "  Perda média do treinamento: 0.08\n",
            "  época de treinamento levou : 0:00:52\n",
            "\n",
            "Executando Validação...\n",
            "  Acurácia: 0.81\n",
            "  Validação perda (Loss): 0.63\n",
            "  Validação levou: 0:00:02\n",
            "\n",
            "======== Época 3 / 4 ========\n",
            "Treinando...\n",
            "  Batch    40  de    241.    Tempo: 0:00:09.\n",
            "  Batch    80  de    241.    Tempo: 0:00:17.\n",
            "  Batch   120  de    241.    Tempo: 0:00:26.\n",
            "  Batch   160  de    241.    Tempo: 0:00:35.\n",
            "  Batch   200  de    241.    Tempo: 0:00:43.\n",
            "  Batch   240  de    241.    Tempo: 0:00:52.\n",
            "\n",
            "  Perda média do treinamento: 0.08\n",
            "  época de treinamento levou : 0:00:52\n",
            "\n",
            "Executando Validação...\n",
            "  Acurácia: 0.81\n",
            "  Validação perda (Loss): 0.63\n",
            "  Validação levou: 0:00:02\n",
            "\n",
            "======== Época 4 / 4 ========\n",
            "Treinando...\n",
            "  Batch    40  de    241.    Tempo: 0:00:09.\n",
            "  Batch    80  de    241.    Tempo: 0:00:17.\n",
            "  Batch   120  de    241.    Tempo: 0:00:26.\n",
            "  Batch   160  de    241.    Tempo: 0:00:35.\n",
            "  Batch   200  de    241.    Tempo: 0:00:43.\n",
            "  Batch   240  de    241.    Tempo: 0:00:52.\n",
            "\n",
            "  Perda média do treinamento: 0.10\n",
            "  época de treinamento levou : 0:00:52\n",
            "\n",
            "Executando Validação...\n",
            "  Acurácia: 0.81\n",
            "  Validação perda (Loss): 0.63\n",
            "  Validação levou: 0:00:02\n",
            "\n",
            "Treinamento completo!\n",
            "Tempo total de treinamento 0:03:35 (h:mm:ss)\n"
     ]
    }
   ],
   "source": [
    "import random\n",
    "import numpy as np\n",
    "\n",
    "# Esse código é baseado no `run_glue.py`\n",
    "# https://github.com/huggingface/transformers/blob/5bfcd0485ece086ebcbed2d008813037968a9e58/examples/run_glue.py#L128\n",
    "\n",
    "# Seta o valor 'seed' em todo lugar para tornar reproduzível\n",
    "seed_val = 42\n",
    "\n",
    "random.seed(seed_val)\n",
    "np.random.seed(seed_val)\n",
    "torch.manual_seed(seed_val)\n",
    "torch.cuda.manual_seed_all(seed_val)\n",
    "\n",
    "# Vamos guardar os valores de perda do treinamento e validação, acurária e tempos de execução.\n",
    "training_stats = []\n",
    "\n",
    "# Medir o total do tempo de treinamento para toda execução\n",
    "total_t0 = time.time()\n",
    "\n",
    "# para cada época\n",
    "for epoch_i in range(0, epochs):\n",
    "    \n",
    "    # ========================================\n",
    "    #               Treinamento\n",
    "    # ========================================\n",
    "    \n",
    "    # Executa um passo inteiro em todo conjunto de treinamento\n",
    "\n",
    "    print(\"\")\n",
    "    print('======== Época {:} / {:} ========'.format(epoch_i + 1, epochs))\n",
    "    print('Treinando...')\n",
    "\n",
    "    # Mede quando tempo a época de treinamento demora\n",
    "    t0 = time.time()\n",
    "\n",
    "    # Reseta a perda total para esta época\n",
    "    total_train_loss = 0\n",
    "\n",
    "    # Coloca o modelo em modo de treinamento.\n",
    "    # Essa chamada para `train` apenas muda o modo, mas não executa o treinamento.\n",
    "    # as camadas `dropout` e `batchnorm` tem comportamento diferente durante o treinamento\n",
    "    # (veja mais: https://stackoverflow.com/questions/51433378/what-does-model-train-do-in-pytorch)\n",
    "    model.train()\n",
    "\n",
    "    # Para cada batch dos nossos dados de treinamento\n",
    "    for step, batch in enumerate(train_dataloader):\n",
    "\n",
    "        # Atualiza progresso a cada 40 batches.\n",
    "        if step % 40 == 0 and not step == 0:\n",
    "            # Calcula o tempo em minutos.\n",
    "            elapsed = format_time(time.time() - t0)\n",
    "            \n",
    "            # Imprime o progresso.\n",
    "            print('  Batch {:>5,}  de  {:>5,}.    Tempo: {:}.'.format(step, len(train_dataloader), elapsed))\n",
    "\n",
    "        # Retira esse batch de treinamento do nosso dataloader. \n",
    "        #\n",
    "        # Agora que retiramos esse batch, também vamos copiar cada tensor para a GPU usando o método `to`, se necessário.\n",
    "        #\n",
    "        # `batch` contém três tensores pytorch:\n",
    "        #   [0]: ids de entrada \n",
    "        #   [1]: máscaras de atenção\n",
    "        #   [2]: rótulos\n",
    "        b_input_ids = batch[0].to(device)\n",
    "        b_input_mask = batch[1].to(device)\n",
    "        b_labels = batch[2].to(device)\n",
    "\n",
    "        # Sempre limpe qualquer gradiente calculado anteriormente antes de executar o passo de \n",
    "        # backward, pois o PyTorch não faz isso automaticamente, já que acumular os gradientes é\n",
    "        # importante para o treinamento das RNNs. \n",
    "        # (https://stackoverflow.com/questions/48001598/why-do-we-need-to-call-zero-grad-in-pytorch)\n",
    "        model.zero_grad()        \n",
    "\n",
    "        # Executa o passo forward (avalia o modelo no batch de treinamento).\n",
    "        # Documentação para essa função: \n",
    "        # https://huggingface.co/transformers/v2.2.0/model_doc/bert.html#transformers.BertForSequenceClassification\n",
    "        # Retorna números diferentes de parâmetros, dependendo de qual argumento foi passado e quais flags foram setadas.\n",
    "        # Aqui, vai retornar a perda (loss) e os \"logits\", saídas do modelo antes da ativação\n",
    "        loss, logits = model(b_input_ids, \n",
    "                             token_type_ids=None, \n",
    "                             attention_mask=b_input_mask, \n",
    "                             labels=b_labels)\n",
    "\n",
    "        # Acumula a perda do treinamento de todos os batches então podemos calcular a média da perda no final. \n",
    "        # `loss` é um Tensor contendo um valor único, a função `.item()` apenas retorna o valor Python do tensor.\n",
    "        \n",
    "        # com a versão nova do Transformers (4.x) aqui dá erro\n",
    "        total_train_loss += loss.item()\n",
    "        \n",
    "        # Executa o passo backward para calcular os gradientes\n",
    "        loss.backward()\n",
    "\n",
    "        # Corte a norma dos gradientes para 1.0., para ajudar a prevenir o problema de \"exploding gradients\".\n",
    "        torch.nn.utils.clip_grad_norm_(model.parameters(), 1.0)\n",
    "\n",
    "        # Atualiza parâmetros e passa uma etapa usando o gradiente calculado.\n",
    "        # O otimizador dita o \"update rule\", ou seja, como os parâmetros são modificados com base \n",
    "        # nos gradientes, taxa de aprendizagem, etc\n",
    "        optimizer.step()\n",
    "\n",
    "        # Atualiza taxa de aprendizagem\n",
    "        scheduler.step()\n",
    "\n",
    "    # Calcula a perda média sobre todos os batches.\n",
    "    avg_train_loss = total_train_loss / len(train_dataloader)            \n",
    "    \n",
    "    # Mede quanto tempo levou essa época\n",
    "    training_time = format_time(time.time() - t0)\n",
    "\n",
    "    print(\"\")\n",
    "    print(\"  Perda média do treinamento: {0:.2f}\".format(avg_train_loss))\n",
    "    print(\"  época de treinamento levou : {:}\".format(training_time))\n",
    "        \n",
    "    # ========================================\n",
    "    #               Validação\n",
    "    # ========================================\n",
    "    # Após a conclusão de cada época de treinamento, vamos medir nosso desempenho em nosso conjunto de validação;\n",
    "\n",
    "    print(\"\")\n",
    "    print(\"Executando Validação...\")\n",
    "\n",
    "    t0 = time.time()\n",
    "\n",
    "    # Coloca o modelo no modo de avaliação, ou seja, as camadas dropout terão comportamento diferente\n",
    "    model.eval()\n",
    "\n",
    "    # Variáveis de rastreamento\n",
    "    total_eval_accuracy = 0\n",
    "    total_eval_loss = 0\n",
    "    nb_eval_steps = 0\n",
    "\n",
    "    # Avalia os dados para uma época\n",
    "    for batch in validation_dataloader:\n",
    "        \n",
    "        # Retira esse batch de treinamento do nosso dataloader. \n",
    "        #\n",
    "        # Agora que retiramos o batch, vaos copiar cada tensor para nossa GPU com o método `to`, se estamos usando GPU\n",
    "        #\n",
    "        # `batch` contém 3 tensores pytorch:\n",
    "        #   [0]: ids de entrada \n",
    "        #   [1]: máscaras de atenção\n",
    "        #   [2]: rótulos\n",
    "        b_input_ids = batch[0].to(device)\n",
    "        b_input_mask = batch[1].to(device)\n",
    "        b_labels = batch[2].to(device)\n",
    "        \n",
    "        # Informa pytorch para não não se preocupar em construir o gráfico de computação durante o passo forward,\n",
    "        # já que precisa apenas no passo backprop (treinamento).\n",
    "        with torch.no_grad():        \n",
    "\n",
    "            # Passo Forward, calcula as perdições logit.\n",
    "            # token_type_ids é o mesmo que os \"segment ids\", que diferencia as sentenças 1 e 2 em uma tarefa com 2 sentenças\n",
    "            # Documentação da função `model`: \n",
    "            # https://huggingface.co/transformers/v2.2.0/model_doc/bert.html#transformers.BertForSequenceClassification\n",
    "            # Pega as saídas \"logits\" do model, valores prévios à aplicação da função de ativação como a softmax.\n",
    "            (loss, logits) = model(b_input_ids, \n",
    "                                   token_type_ids=None, \n",
    "                                   attention_mask=b_input_mask,\n",
    "                                   labels=b_labels)\n",
    "            \n",
    "        # Acumula a perda da validação\n",
    "        total_eval_loss += loss.item()\n",
    "\n",
    "        # Move os logits e rótulos para CPU, se necessário\n",
    "        logits = logits.detach().cpu().numpy()\n",
    "        label_ids = b_labels.to('cpu').numpy()\n",
    "\n",
    "        # Calcula a acurácia desse batch nas frases de teste, e acumula sobre todos os batches.\n",
    "        total_eval_accuracy += flat_accuracy(logits, label_ids)\n",
    "        \n",
    "\n",
    "    # Imprime a acurácia final para a execução da validação.\n",
    "    avg_val_accuracy = total_eval_accuracy / len(validation_dataloader)\n",
    "    print(\"  Acurácia: {0:.2f}\".format(avg_val_accuracy))\n",
    "\n",
    "    # Calcula a média da perda sobre todos os batches.\n",
    "    avg_val_loss = total_eval_loss / len(validation_dataloader)\n",
    "    \n",
    "    # Mede quanto tempo levou a validação\n",
    "    validation_time = format_time(time.time() - t0)\n",
    "    \n",
    "    print(\"  Validação perda (Loss): {0:.2f}\".format(avg_val_loss))\n",
    "    print(\"  Validação levou: {:}\".format(validation_time))\n",
    "\n",
    "    # Grava as estatísticas para esta época.\n",
    "    training_stats.append(\n",
    "        {\n",
    "            'epoch': epoch_i + 1,\n",
    "            'Training Loss': avg_train_loss,\n",
    "            'Valid. Loss': avg_val_loss,\n",
    "            'Valid. Accur.': avg_val_accuracy,\n",
    "            'Training Time': training_time,\n",
    "            'Validation Time': validation_time\n",
    "        }\n",
    "    )\n",
    "\n",
    "print(\"\")\n",
    "print(\"Treinamento completo!\")\n",
    "\n",
    "print(\"Tempo total de treinamento {:} (h:mm:ss)\".format(format_time(time.time()-total_t0)))"
   ]
  },
  {
   "cell_type": "markdown",
   "metadata": {},
   "source": [
    "Vamos ver o resumo do processo de treinamento."
   ]
  },
  {
   "cell_type": "code",
   "execution_count": null,
   "metadata": {},
   "outputs": [],
   "source": [
    "import pandas as pd\n",
    "\n",
    "# Mostra números com duas casas decimais\n",
    "pd.set_option('precision', 2)\n",
    "\n",
    "# Cria um DataFrame das nossas estatísticas de treinamento\n",
    "df_stats = pd.DataFrame(data=training_stats)\n",
    "\n",
    "# Usa a época como o índice da linha\n",
    "df_stats = df_stats.set_index('epoch')\n",
    "\n",
    "# Forçar o agrupamento dos cabeçalho da coluna \n",
    "#df = df.style.set_table_styles([dict(selector=\"th\",props=[('max-width', '70px')])])\n",
    "\n",
    "# Mostra a tabela\n",
    "df_stats"
   ],
      "execution_count": 22,
      "outputs": [
        {
          "output_type": "execute_result",
          "data": {
            "text/html": [
              "<div>\n",
              "<style scoped>\n",
              "    .dataframe tbody tr th:only-of-type {\n",
              "        vertical-align: middle;\n",
              "    }\n",
              "\n",
              "    .dataframe tbody tr th {\n",
              "        vertical-align: top;\n",
              "    }\n",
              "\n",
              "    .dataframe thead th {\n",
              "        text-align: right;\n",
              "    }\n",
              "</style>\n",
              "<table border=\"1\" class=\"dataframe\">\n",
              "  <thead>\n",
              "    <tr style=\"text-align: right;\">\n",
              "      <th></th>\n",
              "      <th>Training Loss</th>\n",
              "      <th>Valid. Loss</th>\n",
              "      <th>Valid. Accur.</th>\n",
              "      <th>Training Time</th>\n",
              "      <th>Validation Time</th>\n",
              "    </tr>\n",
              "    <tr>\n",
              "      <th>epoch</th>\n",
              "      <th></th>\n",
              "      <th></th>\n",
              "      <th></th>\n",
              "      <th></th>\n",
              "      <th></th>\n",
              "    </tr>\n",
              "  </thead>\n",
              "  <tbody>\n",
              "    <tr>\n",
              "      <th>1</th>\n",
              "      <td>0.51</td>\n",
              "      <td>0.45</td>\n",
              "      <td>0.79</td>\n",
              "      <td>0:00:52</td>\n",
              "      <td>0:00:02</td>\n",
              "    </tr>\n",
              "    <tr>\n",
              "      <th>2</th>\n",
              "      <td>0.33</td>\n",
              "      <td>0.48</td>\n",
              "      <td>0.80</td>\n",
              "      <td>0:00:52</td>\n",
              "      <td>0:00:02</td>\n",
              "    </tr>\n",
              "    <tr>\n",
              "      <th>3</th>\n",
              "      <td>0.22</td>\n",
              "      <td>0.57</td>\n",
              "      <td>0.80</td>\n",
              "      <td>0:00:52</td>\n",
              "      <td>0:00:02</td>\n",
              "    </tr>\n",
              "    <tr>\n",
              "      <th>4</th>\n",
              "      <td>0.16</td>\n",
              "      <td>0.63</td>\n",
              "      <td>0.81</td>\n",
              "      <td>0:00:52</td>\n",
              "      <td>0:00:02</td>\n",
              "    </tr>\n",
              "  </tbody>\n",
              "</table>\n",
              "</div>"
            ],
            "text/plain": [
              "       Training Loss  Valid. Loss  Valid. Accur. Training Time Validation Time\n",
              "epoch                                                                         \n",
              "1               0.51         0.45           0.79       0:00:52         0:00:02\n",
              "2               0.33         0.48           0.80       0:00:52         0:00:02\n",
              "3               0.22         0.57           0.80       0:00:52         0:00:02\n",
              "4               0.16         0.63           0.81       0:00:52         0:00:02"
            ]
          },
          "metadata": {
            "tags": []
          },
          "execution_count": 22
        }
      ]
  },
  {
   "cell_type": "markdown",
   "metadata": {},
   "source": [
    "Observe que, enquanto a perda de treinamento está diminuindo a cada época, a perda de validação está aumentando! Isso sugere que estamos treinando nosso modelo por muito tempo e que ele está se ajustando demais aos dados de treinamento.\n",
    "\n",
    "(Para referência, estamos usando 7.695 amostras de treinamento e 856 amostras de validação).\n",
    "\n",
    "A perda de validação é uma medida mais precisa do que a precisão, porque com a precisão não nos importamos com o valor de saída exato, mas apenas em que lado de um limite ele cai.\n",
    "\n",
    "Se estivermos prevendo a resposta correta, mas com menos confiança, a perda de validação pegará isso, mas a precisão não."
   ]
  },
  {
   "cell_type": "code",
   "execution_count": null,
   "metadata": {},
   "outputs": [],
   "source": [
    "import matplotlib.pyplot as plt\n",
    "% matplotlib inline\n",
    "\n",
    "import seaborn as sns\n",
    "\n",
    "# Usando estilo\n",
    "sns.set(style='darkgrid')\n",
    "\n",
    "# Aumentando o tamanho e fonte \n",
    "sns.set(font_scale=1.5)\n",
    "plt.rcParams[\"figure.figsize\"] = (12,6)\n",
    "\n",
    "# Plotando a curva de aprendizagem\n",
    "plt.plot(df_stats['Training Loss'], 'b-o', label=\"Treinamento\")\n",
    "plt.plot(df_stats['Valid. Loss'], 'g-o', label=\"Validação\")\n",
    "\n",
    "\n",
    "# Adicionando títulos\n",
    "plt.title(\"Perda de treinamento e validação\")\n",
    "plt.xlabel(\"Época\")\n",
    "plt.ylabel(\"Perda\")\n",
    "plt.legend()\n",
    "plt.xticks([1, 2, 3, 4])\n",
    "\n",
    "plt.show()"
   ],
   "execution_count": 24,
      "outputs": [
        {
          "output_type": "display_data",
          "data": {
            "image/png": "[encoded data removed]",
            "text/plain": [
              "<Figure size 864x432 with 1 Axes>"
            ]
          },
          "metadata": {
            "tags": []
          }
        }
      ]
  },
  {
   "cell_type": "markdown",
   "metadata": {},
   "source": [
    "## Desempenho no conjunto de teste ##\n",
    "\n",
    "Agora, carregaremos o conjunto de dados *holdout* e preparar as entradas, como fizemos com o conjunto de treinamento. \n",
    "\n",
    "Em seguida, avaliaremos as previsões usando o [coeficiente de correlação de Matthew](https://scikit-learn.org/stable/modules/generated/sklearn.metrics.matthews_corrcoef.html), métrica usada para avaliar o desempenho no CoLA. Com essa métrica, +1 é a melhor pontuação e -1 é a pior pontuação. Dessa forma, podemos ver nosso desempenho em relação aos modelos de última geração para essa tarefa específica.\n",
    "\n",
    "### Preparação de dados ###\n",
    "\n",
    "Precisaremos aplicar todas as mesmas etapas que fizemos para os dados de treinamento para preparar nosso conjunto de dados de teste.\n",
    "\n"
   ]
  },
  {
   "cell_type": "code",
   "execution_count": null,
   "metadata": {},
   "outputs": [],
   "source": [
    "import pandas as pd\n",
    "\n",
    "# Carrega o dataset em um dataframe pandas\n",
    "df = pd.read_csv(\"./cola_public/raw/out_of_domain_dev.tsv\", delimiter='\\t', header=None, names=['sentence_source', 'label', 'label_notes', 'sentence'])\n",
    "\n",
    "# Imprime o número de frases\n",
    "print('Número de frases de teste: {:,}\\n'.format(df.shape[0]))\n",
    "\n",
    "# Cria as listas de frases e rótulos\n",
    "sentences = df.sentence.values\n",
    "labels = df.label.values\n",
    "\n",
    "# Tokeniza todas as sentenças e mapeia os tokens em seus IDs.\n",
    "input_ids = []\n",
    "attention_masks = []\n",
    "\n",
    "# Para cada frase\n",
    "for sent in sentences:\n",
    "    # `encode_plus` vai:\n",
    "    #   (1) Tokenizar a frase\n",
    "    #   (2) Adicionar o token `[CLS]` no início\n",
    "    #   (3) Adicionar o token `[SEP]` no final.\n",
    "    #   (4) Mapear tokens aos seus IDs.\n",
    "    #   (5) Preencher ou truncar a frase até `max_length`\n",
    "    #   (6) Criar máscara de atenção para os tokens [PAD].\n",
    "    encoded_dict = tokenizer.encode_plus(\n",
    "                        sent,                      # Sentença a ser codificada\n",
    "                        add_special_tokens = True, # Adiciona '[CLS]' e '[SEP]'\n",
    "                        max_length = 64,           # Preenche & trunca todas as sentenças\n",
    "                        pad_to_max_length = True,\n",
    "                        return_attention_mask = True,   # Constrói máscara de atenção\n",
    "                        return_tensors = 'pt',     # Retorna tensores pytorch.\n",
    "                   )\n",
    "    \n",
    "    # Adiciona a sentença codificada na lista\n",
    "    input_ids.append(encoded_dict['input_ids'])\n",
    "    \n",
    "    # E sua máscara de atenção (simplesmente diferencia preenchimento (PAD) de não-pad).\n",
    "    attention_masks.append(encoded_dict['attention_mask'])\n",
    "\n",
    "# Converte as listas em tensores.\n",
    "input_ids = torch.cat(input_ids, dim=0)\n",
    "attention_masks = torch.cat(attention_masks, dim=0)\n",
    "labels = torch.tensor(labels)\n",
    "\n",
    "# Seta o batch size.  \n",
    "batch_size = 32  \n",
    "\n",
    "# Cria o DataLoader.\n",
    "prediction_data = TensorDataset(input_ids, attention_masks, labels)\n",
    "prediction_sampler = SequentialSampler(prediction_data)\n",
    "prediction_dataloader = DataLoader(prediction_data, sampler=prediction_sampler, batch_size=batch_size)"
   ],
   "execution_count": 25,
      "outputs": [
        {
          "output_type": "stream",
          "text": [
            "Número de frases de teste: 516\n",
            "\n"
          ],
          "name": "stdout"
        }
      ]
  },
  {
   "cell_type": "markdown",
   "metadata": {},
   "source": [
    "### Avaliação no conjunto de teste ###\n",
    "\n",
    "Com o conjunto de teste preparado, podemos aplicar nosso modelo ajustado para gerar previsões no conjunto de teste."
   ]
  },
  {
   "cell_type": "code",
   "execution_count": null,
   "metadata": {},
   "outputs": [],
   "source": [
    "# Predição no conjunto de teste\n",
    "\n",
    "print('Predição de rótulos para {:,} frases de teste...'.format(len(input_ids)))\n",
    "\n",
    "# coloca o modele em modo de avaliação\n",
    "model.eval()\n",
    "\n",
    "# Variáveis de rastreamento\n",
    "predictions , true_labels = [], []\n",
    "\n",
    "# Predição \n",
    "for batch in prediction_dataloader:\n",
    "  # Adiciona o batch na GPU\n",
    "  batch = tuple(t.to(device) for t in batch)\n",
    "  \n",
    "  # Retira as entradas do dataloader\n",
    "  b_input_ids, b_input_mask, b_labels = batch\n",
    "  \n",
    "  # Informa o modelo para não computar gradientes, salvando memória e acelerando a predição \n",
    "  with torch.no_grad():\n",
    "      # Passo Forward, calcula as predições logit\n",
    "      outputs = model(b_input_ids, token_type_ids=None, \n",
    "                      attention_mask=b_input_mask)\n",
    "\n",
    "  logits = outputs[0]\n",
    "\n",
    "  # Move as logits e rótulos para CPU\n",
    "  logits = logits.detach().cpu().numpy()\n",
    "  label_ids = b_labels.to('cpu').numpy()\n",
    "  \n",
    "  # Armazen predições e rótulos verdadeiros\n",
    "  predictions.append(logits)\n",
    "  true_labels.append(label_ids)\n",
    "\n",
    "print('    FIM.')"
   ],
   "execution_count": 26,
      "outputs": [
        {
          "output_type": "stream",
          "text": [
            "Predição de rótulos para 516 frases de teste...\n",
            "    FIM.\n"
          ],
          "name": "stdout"
        }
      ]
  },
  {
   "cell_type": "markdown",
   "metadata": {},
   "source": [
    "A precisão no *benchmark* CoLA é medida usando o “coeficiente de correlação de Matthews” (MCC).\n",
    "\n",
    "Usamos MCC aqui porque as classes são desequilibradas:"
   ]
  },
  {
   "cell_type": "code",
   "execution_count": null,
   "metadata": {},
   "outputs": [],
   "source": [
    "print('Instâncias positivas: %d de %d (%.2f%%)' % (df.label.sum(), len(df.label), (df.label.sum() / len(df.label) * 100.0)))\n"
   ],
   "execution_count": 27,
      "outputs": [
        {
          "output_type": "stream",
          "text": [
            "Instâncias positivas: 354 de 516 (68.60%)\n"
          ],
          "name": "stdout"
        }
      ]
  },
  {
   "cell_type": "code",
   "execution_count": null,
   "metadata": {},
   "outputs": [],
   "source": [
    "from sklearn.metrics import matthews_corrcoef\n",
    "\n",
    "matthews_set = []\n",
    "\n",
    "# Avaliando cada batch de teste usando MCC\n",
    "print('Calculando MCC para cada batch...')\n",
    "\n",
    "# Para cada batch\n",
    "for i in range(len(true_labels)):\n",
    "  \n",
    "  # As predições para este batch são a 2a. coluna do ndarray (uma coluna para \"0\" e outra para \"1\"  \n",
    "  # Pega o rótulo com o maior valor e transforma para uma lista de 0s e 1s.\n",
    "  pred_labels_i = np.argmax(predictions[i], axis=1).flatten()\n",
    "  \n",
    "  # Calcula e armazena o coef para este batch.  \n",
    "  matthews = matthews_corrcoef(true_labels[i], pred_labels_i)                \n",
    "  matthews_set.append(matthews)"
   ],
   "execution_count": 28,
      "outputs": [
        {
          "output_type": "stream",
          "text": [
            "Calculando MCC para cada batch...\n"
          ],
          "name": "stdout"
        },
        {
          "output_type": "stream",
          "text": [
            "/usr/local/lib/python3.6/dist-packages/sklearn/metrics/_classification.py:900: RuntimeWarning: invalid value encountered in double_scalars\n",
            "  mcc = cov_ytyp / np.sqrt(cov_ytyt * cov_ypyp)\n"
          ],
          "name": "stderr"
        }
      ]
  },
  {
   "cell_type": "markdown",
   "metadata": {},
   "source": [
    "A pontuação final será baseada em todo o conjunto de teste, mas vamos dar uma olhada nas pontuações dos lotes individuais para ter uma noção da variabilidade da métrica entre os lotes.\n",
    "\n",
    "Cada lote contém 32 sentenças, exceto o último lote que contém apenas (516% 32) = 4 sentenças de teste."
   ]
  },
  {
   "cell_type": "code",
   "execution_count": null,
   "metadata": {},
   "outputs": [],
   "source": [
    "# Cria um barplot mostrando o MCC para cada batch dos nossos exemplos de teste.\n",
    "ax = sns.barplot(x=list(range(len(matthews_set))), y=matthews_set, ci=None)\n",
    "\n",
    "plt.title('MCC por Batch')\n",
    "plt.ylabel('MCC Score (-1 a +1)')\n",
    "plt.xlabel('Batch #')\n",
    "\n",
    "plt.show()"
   ],
   "execution_count": 29,
      "outputs": [
        {
          "output_type": "display_data",
          "data": {
            "image/png": "[encoded data removed]",
            "text/plain": [
              "<Figure size 864x432 with 1 Axes>"
            ]
          },
          "metadata": {
            "tags": []
          }
        }
      ]
  },
  {
   "cell_type": "markdown",
   "metadata": {},
   "source": [
    "Agora combinaremos os resultados de todos os lotes e calcularemos nossa pontuação final no MCC."
   ]
  },
  {
   "cell_type": "code",
   "execution_count": null,
   "metadata": {},
   "outputs": [],
   "source": [
    "# Combina os resultados para todos os batches. \n",
    "flat_predictions = np.concatenate(predictions, axis=0)\n",
    "\n",
    "# Para cada exemplo, pega o rótulo (0 or 1) com maior score\n",
    "flat_predictions = np.argmax(flat_predictions, axis=1).flatten()\n",
    "\n",
    "# Combina os rótulos corretor para cada batch em uma única lista.\n",
    "flat_true_labels = np.concatenate(true_labels, axis=0)\n",
    "\n",
    "# Calcula o MCC\n",
    "mcc = matthews_corrcoef(flat_true_labels, flat_predictions)\n",
    "\n",
    "print('Total MCC: %.3f' % mcc)"
   ],
         "execution_count": 30,
      "outputs": [
        {
          "output_type": "stream",
          "text": [
            "Total MCC: 0.550\n"
          ],
          "name": "stdout"
        }
      ]

  },
  {
   "cell_type": "markdown",
   "metadata": {},
   "source": [
    "Legal! Em cerca de meia hora e sem fazer nenhum ajuste de hiperparâmetro (ajustando a taxa de aprendizagem, épocas, tamanho do lote, propriedades ADAM, etc.), obtivemos uma boa pontuação."
   ]
  },
  {
   "cell_type": "markdown",
   "metadata": {},
   "source": [
    "Nota: Para maximizar a pontuação, devemos remover o “conjunto de validação” (que usamos para ajudar a determinar em quantas épocas treinar) e treinar em todo o conjunto de treinamento."
   ]
  },
  {
   "cell_type": "markdown",
   "metadata": {},
   "source": [
    "A biblioteca documenta a precisão esperada para este benchmark aqui como **49.23** ([ver tabela de classificação oficial](https://gluebenchmark.com/leaderboard/submission/zlssuBTm5XRs0aSKbFYGVIVdvbj1/-LhijX9VVmvJcvzKymxy)).\n",
    "\n",
    "## Conclusão ##\n",
    "\n",
    "Com um modelo BERT pré-treinado, podemos criar de forma rápida e eficaz um modelo de alta qualidade com o mínimo de esforço e tempo de treinamento usando a interface *pytorch*, independentemente da tarefa PLN específica em que estamos interessados."
   ]
  },
  {
   "cell_type": "markdown",
   "metadata": {},
   "source": [
    "### Salvar e carregar modelo ajustado ###\n",
    "\n",
    "A próxima célula grava o modelo e o tokenizer no disco."
   ]
  },
  {
   "cell_type": "code",
   "execution_count": null,
   "metadata": {},
   "outputs": [],
   "source": [
    "import os\n",
    "\n",
    "# Boa-prática: usar os nomes padrão dos modlos, para fazer load usando from_pretrained()\n",
    "\n",
    "output_dir = './model_save/'\n",
    "\n",
    "# Criar diretório de saída se necessário\n",
    "if not os.path.exists(output_dir):\n",
    "    os.makedirs(output_dir)\n",
    "\n",
    "print(\"Savando modelo em %s\" % output_dir)\n",
    "\n",
    "# Salva um modelo treinado, sua configuração e tokenizador com `save_pretrained()`.\n",
    "# Eles podem ser carregados com `from_pretrained()`\n",
    "model_to_save = model.module if hasattr(model, 'module') else model  # Cuida do treinamento paralelo/distribuído\n",
    "model_to_save.save_pretrained(output_dir)\n",
    "tokenizer.save_pretrained(output_dir)\n",
    "\n",
    "# Boa-prática: salve os argumentos de treinamento junto com o modelo\n",
    "# torch.save(args, os.path.join(output_dir, 'training_args.bin'))\n"
   ],
         "execution_count": 31,
      "outputs": [
        {
          "output_type": "stream",
          "text": [
            "Savando modelo em ./model_save/\n"
          ],
          "name": "stdout"
        },
        {
          "output_type": "execute_result",
          "data": {
            "text/plain": [
              "('./model_save/vocab.txt',\n",
              " './model_save/special_tokens_map.json',\n",
              " './model_save/added_tokens.json')"
            ]
          },
          "metadata": {
            "tags": []
          },
          "execution_count": 31
        }
      ]

  },
  {
   "cell_type": "markdown",
   "metadata": {},
   "source": [
    "Vamos verificar os tamanhos dos arquivos, por curiosidade. (no Colab)"
   ]
  },
  {
   "cell_type": "code",
   "execution_count": null,
   "metadata": {},
   "outputs": [],
   "source": [
    "!ls -l --block-size=K ./model_save/\n"
   ],
         "execution_count": 32,
      "outputs": [
        {
          "output_type": "stream",
          "text": [
            "total 427996K\n",
            "-rw-r--r-- 1 root root      1K Dec 10 19:33 config.json\n",
            "-rw-r--r-- 1 root root 427752K Dec 10 19:33 pytorch_model.bin\n",
            "-rw-r--r-- 1 root root      1K Dec 10 19:33 special_tokens_map.json\n",
            "-rw-r--r-- 1 root root      1K Dec 10 19:33 tokenizer_config.json\n",
            "-rw-r--r-- 1 root root    227K Dec 10 19:33 vocab.txt\n"
          ],
          "name": "stdout"
        }
      ]

  },
  {
   "cell_type": "markdown",
   "metadata": {},
   "source": [
    "O maior arquivo é o peso do modelo, em torno de 418 megabytes.\n",
    "\n"
   ]
  },
  {
   "cell_type": "code",
   "execution_count": null,
   "metadata": {},
   "outputs": [],
   "source": [
    "!ls -l --block-size=M ./model_save/pytorch_model.bin\n"
   ]
  },
  {
   "cell_type": "markdown",
   "metadata": {},
   "source": [
    "Para salvar seu modelo nas sessões do **Colab Notebook**, baixe-o em sua máquina local ou, de preferência, copie-o para o Google Drive."
   ]
  },
  {
   "cell_type": "code",
   "execution_count": null,
   "metadata": {},
   "outputs": [],
   "source": [
    "# Montando Google Drive nesta instância \n",
    "from google.colab import drive\n",
    "    drive.mount('/content/drive')\n",
    "    \n",
    "# Copia os arquivos do modelo num diretório do Google Drive.\n",
    "!cp -r ./model_save/ \"./drive/Shared drives/PLN/BERT Fine-Tuning/\""
   ]
  },
  {
   "cell_type": "markdown",
   "metadata": {},
   "source": [
    "As funções a seguir carregarão o modelo de volta do disco.\n",
    "\n"
   ]
  },
  {
   "cell_type": "code",
   "execution_count": null,
   "metadata": {},
   "outputs": [],
   "source": [
    "# Carrega um modelo treinado e seu vocabulário\n",
    "model = model_class.from_pretrained(output_dir)\n",
    "tokenizer = tokenizer_class.from_pretrained(output_dir)\n",
    "\n",
    "# Copia o modelo na GPU\n",
    "model.to(device)"
   ]
  }
 ],
 "metadata": {
  "kernelspec": {
   "display_name": "Python 3",
   "language": "python",
   "name": "python3"
  },
  "language_info": {
   "codemirror_mode": {
    "name": "ipython",
    "version": 3
   },
   "file_extension": ".py",
   "mimetype": "text/x-python",
   "name": "python",
   "nbconvert_exporter": "python",
   "pygments_lexer": "ipython3",
   "version": "3.8.5"
  },
  "pycharm": {
   "stem_cell": {
    "cell_type": "raw",
    "metadata": {
     "collapsed": false
    },
    "source": []
   }
  }
 },
 "nbformat": 4,
 "nbformat_minor": 2
}
