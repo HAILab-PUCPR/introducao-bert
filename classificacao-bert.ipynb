{
  "nbformat": 4,
  "nbformat_minor": 0,
  "metadata": {
    "kernelspec": {
      "display_name": "Python 3",
      "language": "python",
      "name": "python3"
    },
    "language_info": {
      "codemirror_mode": {
        "name": "ipython",
        "version": 3
      },
      "file_extension": ".py",
      "mimetype": "text/x-python",
      "name": "python",
      "nbconvert_exporter": "python",
      "pygments_lexer": "ipython3",
      "version": "3.8.5"
    },
    "pycharm": {
      "stem_cell": {
        "cell_type": "raw",
        "metadata": {
          "collapsed": false
        },
        "source": []
      }
    },
    "colab": {
      "name": "jupyter-bert-classificacao.ipynb",
      "provenance": [],
      "collapsed_sections": []
    },
    "accelerator": "GPU",
    "widgets": {
      "application/vnd.jupyter.widget-state+json": {
        "0cb9049145974d55b3e8c9b075c16185": {
          "model_module": "@jupyter-widgets/controls",
          "model_name": "HBoxModel",
          "state": {
            "_view_name": "HBoxView",
            "_dom_classes": [],
            "_model_name": "HBoxModel",
            "_view_module": "@jupyter-widgets/controls",
            "_model_module_version": "1.5.0",
            "_view_count": null,
            "_view_module_version": "1.5.0",
            "box_style": "",
            "layout": "IPY_MODEL_e6bc4fa3801b45e189c6e7f3de641c06",
            "_model_module": "@jupyter-widgets/controls",
            "children": [
              "IPY_MODEL_4f3b06cac2094a61b00f9a13b55bfc1c",
              "IPY_MODEL_d00d3f968679442d9f69ba775ae843d1"
            ]
          }
        },
        "e6bc4fa3801b45e189c6e7f3de641c06": {
          "model_module": "@jupyter-widgets/base",
          "model_name": "LayoutModel",
          "state": {
            "_view_name": "LayoutView",
            "grid_template_rows": null,
            "right": null,
            "justify_content": null,
            "_view_module": "@jupyter-widgets/base",
            "overflow": null,
            "_model_module_version": "1.2.0",
            "_view_count": null,
            "flex_flow": null,
            "width": null,
            "min_width": null,
            "border": null,
            "align_items": null,
            "bottom": null,
            "_model_module": "@jupyter-widgets/base",
            "top": null,
            "grid_column": null,
            "overflow_y": null,
            "overflow_x": null,
            "grid_auto_flow": null,
            "grid_area": null,
            "grid_template_columns": null,
            "flex": null,
            "_model_name": "LayoutModel",
            "justify_items": null,
            "grid_row": null,
            "max_height": null,
            "align_content": null,
            "visibility": null,
            "align_self": null,
            "height": null,
            "min_height": null,
            "padding": null,
            "grid_auto_rows": null,
            "grid_gap": null,
            "max_width": null,
            "order": null,
            "_view_module_version": "1.2.0",
            "grid_template_areas": null,
            "object_position": null,
            "object_fit": null,
            "grid_auto_columns": null,
            "margin": null,
            "display": null,
            "left": null
          }
        },
        "4f3b06cac2094a61b00f9a13b55bfc1c": {
          "model_module": "@jupyter-widgets/controls",
          "model_name": "FloatProgressModel",
          "state": {
            "_view_name": "ProgressView",
            "style": "IPY_MODEL_38e4081b0ee2413a9b525a0fef919d89",
            "_dom_classes": [],
            "description": "Downloading: 100%",
            "_model_name": "FloatProgressModel",
            "bar_style": "success",
            "max": 231508,
            "_view_module": "@jupyter-widgets/controls",
            "_model_module_version": "1.5.0",
            "value": 231508,
            "_view_count": null,
            "_view_module_version": "1.5.0",
            "orientation": "horizontal",
            "min": 0,
            "description_tooltip": null,
            "_model_module": "@jupyter-widgets/controls",
            "layout": "IPY_MODEL_6787ebe6ab364f83b72b90406adc6589"
          }
        },
        "d00d3f968679442d9f69ba775ae843d1": {
          "model_module": "@jupyter-widgets/controls",
          "model_name": "HTMLModel",
          "state": {
            "_view_name": "HTMLView",
            "style": "IPY_MODEL_7a6bcf541fe14666ae9996eee77f5205",
            "_dom_classes": [],
            "description": "",
            "_model_name": "HTMLModel",
            "placeholder": "​",
            "_view_module": "@jupyter-widgets/controls",
            "_model_module_version": "1.5.0",
            "value": " 232k/232k [00:00&lt;00:00, 939kB/s]",
            "_view_count": null,
            "_view_module_version": "1.5.0",
            "description_tooltip": null,
            "_model_module": "@jupyter-widgets/controls",
            "layout": "IPY_MODEL_c2c278cfcaca4e718bcbd866769e1842"
          }
        },
        "38e4081b0ee2413a9b525a0fef919d89": {
          "model_module": "@jupyter-widgets/controls",
          "model_name": "ProgressStyleModel",
          "state": {
            "_view_name": "StyleView",
            "_model_name": "ProgressStyleModel",
            "description_width": "initial",
            "_view_module": "@jupyter-widgets/base",
            "_model_module_version": "1.5.0",
            "_view_count": null,
            "_view_module_version": "1.2.0",
            "bar_color": null,
            "_model_module": "@jupyter-widgets/controls"
          }
        },
        "6787ebe6ab364f83b72b90406adc6589": {
          "model_module": "@jupyter-widgets/base",
          "model_name": "LayoutModel",
          "state": {
            "_view_name": "LayoutView",
            "grid_template_rows": null,
            "right": null,
            "justify_content": null,
            "_view_module": "@jupyter-widgets/base",
            "overflow": null,
            "_model_module_version": "1.2.0",
            "_view_count": null,
            "flex_flow": null,
            "width": null,
            "min_width": null,
            "border": null,
            "align_items": null,
            "bottom": null,
            "_model_module": "@jupyter-widgets/base",
            "top": null,
            "grid_column": null,
            "overflow_y": null,
            "overflow_x": null,
            "grid_auto_flow": null,
            "grid_area": null,
            "grid_template_columns": null,
            "flex": null,
            "_model_name": "LayoutModel",
            "justify_items": null,
            "grid_row": null,
            "max_height": null,
            "align_content": null,
            "visibility": null,
            "align_self": null,
            "height": null,
            "min_height": null,
            "padding": null,
            "grid_auto_rows": null,
            "grid_gap": null,
            "max_width": null,
            "order": null,
            "_view_module_version": "1.2.0",
            "grid_template_areas": null,
            "object_position": null,
            "object_fit": null,
            "grid_auto_columns": null,
            "margin": null,
            "display": null,
            "left": null
          }
        },
        "7a6bcf541fe14666ae9996eee77f5205": {
          "model_module": "@jupyter-widgets/controls",
          "model_name": "DescriptionStyleModel",
          "state": {
            "_view_name": "StyleView",
            "_model_name": "DescriptionStyleModel",
            "description_width": "",
            "_view_module": "@jupyter-widgets/base",
            "_model_module_version": "1.5.0",
            "_view_count": null,
            "_view_module_version": "1.2.0",
            "_model_module": "@jupyter-widgets/controls"
          }
        },
        "c2c278cfcaca4e718bcbd866769e1842": {
          "model_module": "@jupyter-widgets/base",
          "model_name": "LayoutModel",
          "state": {
            "_view_name": "LayoutView",
            "grid_template_rows": null,
            "right": null,
            "justify_content": null,
            "_view_module": "@jupyter-widgets/base",
            "overflow": null,
            "_model_module_version": "1.2.0",
            "_view_count": null,
            "flex_flow": null,
            "width": null,
            "min_width": null,
            "border": null,
            "align_items": null,
            "bottom": null,
            "_model_module": "@jupyter-widgets/base",
            "top": null,
            "grid_column": null,
            "overflow_y": null,
            "overflow_x": null,
            "grid_auto_flow": null,
            "grid_area": null,
            "grid_template_columns": null,
            "flex": null,
            "_model_name": "LayoutModel",
            "justify_items": null,
            "grid_row": null,
            "max_height": null,
            "align_content": null,
            "visibility": null,
            "align_self": null,
            "height": null,
            "min_height": null,
            "padding": null,
            "grid_auto_rows": null,
            "grid_gap": null,
            "max_width": null,
            "order": null,
            "_view_module_version": "1.2.0",
            "grid_template_areas": null,
            "object_position": null,
            "object_fit": null,
            "grid_auto_columns": null,
            "margin": null,
            "display": null,
            "left": null
          }
        }
      }
    }
  },
  "cells": [
    {
      "cell_type": "markdown",
      "metadata": {
        "id": "2pieQOy1UThI"
      },
      "source": [
        "# Classificação com BERT\n",
        "\n",
        "Neste *notebook* você verá um exemplo de como usar o [BERT](https://arxiv.org/abs/1810.04805) para tarefa de classificação, usando a bilbioteca **Transformers** do **Hugging Faces**. \n",
        "\n",
        "Fontes:  \n",
        "\n",
        "- [BERT Fine-Tuning Tutorial with PyTorch](https://mccormickml.com/2019/07/22/BERT-fine-tuning/).\n",
        "- [Hugging Faces - Github](https://github.com/huggingface/transformers) e [Hugging Faces - site](https://huggingface.co/)\n"
      ]
    },
    {
      "cell_type": "markdown",
      "metadata": {
        "id": "Bq0Z5iWeUThO"
      },
      "source": [
        "Primeiro, vamos verificar se temos GPU disponível para nossa execução. Não se preocupe caso não possua GPU, apenas o treinamento será mais demorado.\n",
        "\n",
        "Caso você esteja executando no Colab, acesse: Edit 🡒 Notebook Settings 🡒 Hardware accelerator 🡒 (GPU)"
      ]
    },
    {
      "cell_type": "code",
      "metadata": {
        "pycharm": {
          "is_executing": false,
          "name": "#%%\n"
        },
        "colab": {
          "base_uri": "https://localhost:8080/"
        },
        "id": "8iH3iyyMUThO",
        "outputId": "86b2e17d-168a-4d63-c5c9-bd37b306740a"
      },
      "source": [
        "import torch\n",
        "\n",
        "# Verificar se tem GPU disponível\n",
        "if torch.cuda.is_available():    \n",
        "\n",
        "    # Informa PyTorch para usar GPU\n",
        "    device = torch.device(\"cuda\")\n",
        "\n",
        "    print('Existe(m)  %d GPU(s) disponível(eis).' % torch.cuda.device_count())\n",
        "\n",
        "    print('Vamos usar a GPU:', torch.cuda.get_device_name(0))\n",
        "\n",
        "# Se não tem...\n",
        "else:\n",
        "    print('Sem GPU disponível, usando CPU.')\n",
        "    device = torch.device(\"cpu\")"
      ],
      "execution_count": 1,
      "outputs": [
        {
          "output_type": "stream",
          "text": [
            "Existe(m)  1 GPU(s) disponível(eis).\n",
            "Vamos usar a GPU: Tesla T4\n"
          ],
          "name": "stdout"
        }
      ]
    },
    {
      "cell_type": "markdown",
      "metadata": {
        "id": "s6riA3KZUThQ"
      },
      "source": [
        "### Biblioteca Transformers com *Pytorch*\n",
        "\n",
        "Aqui vamos usar a interface *Pytorch* porque possui um bom equilíbrio entre as APIs de alto nível (fáceis de usar, mas sem fornecer informações sobre como as coisas funcionam) e código de tensorflow (que contém muitos detalhes, mas não tão fáceis de usar).\n",
        "\n",
        "No momento, a biblioteca **Hugging Face** é a interface *Pytorch* mais utilizada para trabalhar com BERT. Além de oferecer suporte a uma variedade de modelos pré-treinados, também inclui modelos especializados para tarefas específicas. Neste tutorial vamos usar *BertForSequenceClassification*.\n",
        "\n",
        "A biblioteca também inclui classes específicas de tarefas para classificação de *tokens*, resposta a perguntas (Q&A), previsão da próxima frase, etc. O uso dessas classes pré-construídas simplifica o processo de modificação de BERT para nossos propósitos."
      ]
    },
    {
      "cell_type": "code",
      "metadata": {
        "pycharm": {
          "is_executing": false,
          "name": "#%%\n"
        },
        "colab": {
          "base_uri": "https://localhost:8080/"
        },
        "id": "KrbPDnszUThQ",
        "outputId": "c6392f9b-06d9-4e2d-a7d4-e753529d8682"
      },
      "source": [
        "# execute essa linha se estiver usando Colab\n",
        "#!pip install transformers\n",
        "!pip install transformers~=2.11.0\n"
      ],
      "execution_count": 2,
      "outputs": [
        {
          "output_type": "stream",
          "text": [
            "Collecting transformers~=2.11.0\n",
            "\u001b[?25l  Downloading https://files.pythonhosted.org/packages/48/35/ad2c5b1b8f99feaaf9d7cdadaeef261f098c6e1a6a2935d4d07662a6b780/transformers-2.11.0-py3-none-any.whl (674kB)\n",
            "\u001b[K     |████████████████████████████████| 675kB 9.1MB/s \n",
            "\u001b[?25hRequirement already satisfied: numpy in /usr/local/lib/python3.6/dist-packages (from transformers~=2.11.0) (1.18.5)\n",
            "Collecting sacremoses\n",
            "\u001b[?25l  Downloading https://files.pythonhosted.org/packages/7d/34/09d19aff26edcc8eb2a01bed8e98f13a1537005d31e95233fd48216eed10/sacremoses-0.0.43.tar.gz (883kB)\n",
            "\u001b[K     |████████████████████████████████| 890kB 18.8MB/s \n",
            "\u001b[?25hRequirement already satisfied: dataclasses; python_version < \"3.7\" in /usr/local/lib/python3.6/dist-packages (from transformers~=2.11.0) (0.8)\n",
            "Requirement already satisfied: filelock in /usr/local/lib/python3.6/dist-packages (from transformers~=2.11.0) (3.0.12)\n",
            "Requirement already satisfied: packaging in /usr/local/lib/python3.6/dist-packages (from transformers~=2.11.0) (20.7)\n",
            "Requirement already satisfied: regex!=2019.12.17 in /usr/local/lib/python3.6/dist-packages (from transformers~=2.11.0) (2019.12.20)\n",
            "Collecting sentencepiece\n",
            "\u001b[?25l  Downloading https://files.pythonhosted.org/packages/e5/2d/6d4ca4bef9a67070fa1cac508606328329152b1df10bdf31fb6e4e727894/sentencepiece-0.1.94-cp36-cp36m-manylinux2014_x86_64.whl (1.1MB)\n",
            "\u001b[K     |████████████████████████████████| 1.1MB 41.7MB/s \n",
            "\u001b[?25hCollecting tokenizers==0.7.0\n",
            "\u001b[?25l  Downloading https://files.pythonhosted.org/packages/14/e5/a26eb4716523808bb0a799fcfdceb6ebf77a18169d9591b2f46a9adb87d9/tokenizers-0.7.0-cp36-cp36m-manylinux1_x86_64.whl (3.8MB)\n",
            "\u001b[K     |████████████████████████████████| 3.8MB 44.8MB/s \n",
            "\u001b[?25hRequirement already satisfied: requests in /usr/local/lib/python3.6/dist-packages (from transformers~=2.11.0) (2.23.0)\n",
            "Requirement already satisfied: tqdm>=4.27 in /usr/local/lib/python3.6/dist-packages (from transformers~=2.11.0) (4.41.1)\n",
            "Requirement already satisfied: six in /usr/local/lib/python3.6/dist-packages (from sacremoses->transformers~=2.11.0) (1.15.0)\n",
            "Requirement already satisfied: click in /usr/local/lib/python3.6/dist-packages (from sacremoses->transformers~=2.11.0) (7.1.2)\n",
            "Requirement already satisfied: joblib in /usr/local/lib/python3.6/dist-packages (from sacremoses->transformers~=2.11.0) (0.17.0)\n",
            "Requirement already satisfied: pyparsing>=2.0.2 in /usr/local/lib/python3.6/dist-packages (from packaging->transformers~=2.11.0) (2.4.7)\n",
            "Requirement already satisfied: urllib3!=1.25.0,!=1.25.1,<1.26,>=1.21.1 in /usr/local/lib/python3.6/dist-packages (from requests->transformers~=2.11.0) (1.24.3)\n",
            "Requirement already satisfied: certifi>=2017.4.17 in /usr/local/lib/python3.6/dist-packages (from requests->transformers~=2.11.0) (2020.12.5)\n",
            "Requirement already satisfied: chardet<4,>=3.0.2 in /usr/local/lib/python3.6/dist-packages (from requests->transformers~=2.11.0) (3.0.4)\n",
            "Requirement already satisfied: idna<3,>=2.5 in /usr/local/lib/python3.6/dist-packages (from requests->transformers~=2.11.0) (2.10)\n",
            "Building wheels for collected packages: sacremoses\n",
            "  Building wheel for sacremoses (setup.py) ... \u001b[?25l\u001b[?25hdone\n",
            "  Created wheel for sacremoses: filename=sacremoses-0.0.43-cp36-none-any.whl size=893261 sha256=12193703474a96ecbb9d9aad6b47fc3075c95ff466ca9352a6d3f2fa7c9950a1\n",
            "  Stored in directory: /root/.cache/pip/wheels/29/3c/fd/7ce5c3f0666dab31a50123635e6fb5e19ceb42ce38d4e58f45\n",
            "Successfully built sacremoses\n",
            "Installing collected packages: sacremoses, sentencepiece, tokenizers, transformers\n",
            "Successfully installed sacremoses-0.0.43 sentencepiece-0.1.94 tokenizers-0.7.0 transformers-2.11.0\n"
          ],
          "name": "stdout"
        }
      ]
    },
    {
      "cell_type": "markdown",
      "metadata": {
        "pycharm": {
          "name": "#%% md\n"
        },
        "id": "_pii6c_iUThQ"
      },
      "source": [
        "### Carregando o conjunto de dados (CoLA)\n",
        "\n",
        "Usaremos o conjunto de dados do *Corpus of Linguistic Acceptability (CoLA)* para a classificação de uma única frase. É um conjunto de frases rotuladas como gramaticalmente corretas ou incorretas. Foi publicado pela primeira vez em maio de 2018, e é um dos testes incluídos no “Benchmark GLUE” em que competem modelos como o BERT.\n",
        "\n",
        "Faça *download* do dataset neste link: https://nyu-mll.github.io/CoLA/ e descompacte o conjunto de dados na mesma pasta em que está trabalhando.\n",
        "\n",
        "Ou, se estiver no Colab, use o comando abaixo:\n"
      ]
    },
    {
      "cell_type": "code",
      "metadata": {
        "colab": {
          "base_uri": "https://localhost:8080/"
        },
        "id": "SgM7p28fUThR",
        "outputId": "604f5193-edff-49f6-ac86-6365e44075c2"
      },
      "source": [
        "# Usaremos o wget para baixar o conjunto de dados para o sistema de arquivos da instância Colab.\n",
        "!pip install wget\n",
        "\n",
        "import wget\n",
        "import os\n",
        "\n",
        "print('Baixando dataset...')\n",
        "\n",
        "# URL para baixar o dataset em formato zip.\n",
        "url = 'https://nyu-mll.github.io/CoLA/cola_public_1.1.zip'\n",
        "\n",
        "# Baixar arquivo (se não temos ainda)\n",
        "if not os.path.exists('./cola_public_1.1.zip'):\n",
        "    wget.download(url, './cola_public_1.1.zip')\n",
        "    \n",
        "# Dezipar o dataset (se ainda não temos)\n",
        "if not os.path.exists('./cola_public/'):\n",
        "    !unzip cola_public_1.1.zip"
      ],
      "execution_count": 3,
      "outputs": [
        {
          "output_type": "stream",
          "text": [
            "Collecting wget\n",
            "  Downloading https://files.pythonhosted.org/packages/47/6a/62e288da7bcda82b935ff0c6cfe542970f04e29c756b0e147251b2fb251f/wget-3.2.zip\n",
            "Building wheels for collected packages: wget\n",
            "  Building wheel for wget (setup.py) ... \u001b[?25l\u001b[?25hdone\n",
            "  Created wheel for wget: filename=wget-3.2-cp36-none-any.whl size=9681 sha256=35059a9ac2524714809ee10c400fbfd11a49e6ec1c351e78af2f174b204d2546\n",
            "  Stored in directory: /root/.cache/pip/wheels/40/15/30/7d8f7cea2902b4db79e3fea550d7d7b85ecb27ef992b618f3f\n",
            "Successfully built wget\n",
            "Installing collected packages: wget\n",
            "Successfully installed wget-3.2\n",
            "Baixando dataset...\n",
            "Archive:  cola_public_1.1.zip\n",
            "   creating: cola_public/\n",
            "  inflating: cola_public/README      \n",
            "   creating: cola_public/tokenized/\n",
            "  inflating: cola_public/tokenized/in_domain_dev.tsv  \n",
            "  inflating: cola_public/tokenized/in_domain_train.tsv  \n",
            "  inflating: cola_public/tokenized/out_of_domain_dev.tsv  \n",
            "   creating: cola_public/raw/\n",
            "  inflating: cola_public/raw/in_domain_dev.tsv  \n",
            "  inflating: cola_public/raw/in_domain_train.tsv  \n",
            "  inflating: cola_public/raw/out_of_domain_dev.tsv  \n"
          ],
          "name": "stdout"
        }
      ]
    },
    {
      "cell_type": "markdown",
      "metadata": {
        "pycharm": {
          "is_executing": false,
          "name": "#%% md\n"
        },
        "id": "U6KkxO5mUThR"
      },
      "source": [
        "### Análise\n",
        "\n",
        "Podemos ver pelos nomes dos arquivos que temos as versões originais e as tokenizadas dos dados.\n",
        "\n",
        "Não vamos usar a versão pré-tokenizada porque, para aplicar o nosso modelo BERT pré-treinado, devemos usar o tokenizador fornecido pelo modelo. Isso porque: (1) o modelo tem um vocabulário específico e fixo e (2) o tokenizador BERT tem uma maneira particular de lidar com palavras fora do vocabulário.\n",
        "\n",
        "Usaremos a biblioteca *pandas* para analisar o conjunto de treinamento e examinar algumas de suas propriedades."
      ]
    },
    {
      "cell_type": "code",
      "metadata": {
        "pycharm": {
          "is_executing": false,
          "name": "#%%\n"
        },
        "colab": {
          "base_uri": "https://localhost:8080/",
          "height": 393
        },
        "id": "BrpMue0gUThR",
        "outputId": "7f62ff4b-9e81-4f2a-b627-34b9e2168999"
      },
      "source": [
        "import pandas as pd\n",
        "\n",
        "# Carrega o dataset em um dataframe pandas\n",
        "df = pd.read_csv(\"./cola_public/raw/in_domain_train.tsv\", delimiter='\\t', header=None, names=['sentence_source', 'label', 'label_notes', 'sentence'])\n",
        "\n",
        "# Imprime o número de frases.\n",
        "print('Número de sentenças de treinamento: {:,}\\n'.format(df.shape[0]))\n",
        "\n",
        "# Exibe 10 frases randômicas do dataset\n",
        "df.sample(10)"
      ],
      "execution_count": 5,
      "outputs": [
        {
          "output_type": "stream",
          "text": [
            "Número de sentenças de treinamento: 8,551\n",
            "\n"
          ],
          "name": "stdout"
        },
        {
          "output_type": "execute_result",
          "data": {
            "text/html": [
              "<div>\n",
              "<style scoped>\n",
              "    .dataframe tbody tr th:only-of-type {\n",
              "        vertical-align: middle;\n",
              "    }\n",
              "\n",
              "    .dataframe tbody tr th {\n",
              "        vertical-align: top;\n",
              "    }\n",
              "\n",
              "    .dataframe thead th {\n",
              "        text-align: right;\n",
              "    }\n",
              "</style>\n",
              "<table border=\"1\" class=\"dataframe\">\n",
              "  <thead>\n",
              "    <tr style=\"text-align: right;\">\n",
              "      <th></th>\n",
              "      <th>sentence_source</th>\n",
              "      <th>label</th>\n",
              "      <th>label_notes</th>\n",
              "      <th>sentence</th>\n",
              "    </tr>\n",
              "  </thead>\n",
              "  <tbody>\n",
              "    <tr>\n",
              "      <th>3335</th>\n",
              "      <td>l-93</td>\n",
              "      <td>1</td>\n",
              "      <td>NaN</td>\n",
              "      <td>There ran through the valley a rushing stream.</td>\n",
              "    </tr>\n",
              "    <tr>\n",
              "      <th>2853</th>\n",
              "      <td>l-93</td>\n",
              "      <td>1</td>\n",
              "      <td>NaN</td>\n",
              "      <td>Carol cut her thumb.</td>\n",
              "    </tr>\n",
              "    <tr>\n",
              "      <th>5992</th>\n",
              "      <td>c_13</td>\n",
              "      <td>0</td>\n",
              "      <td>*</td>\n",
              "      <td>Ate Bill his dinner?</td>\n",
              "    </tr>\n",
              "    <tr>\n",
              "      <th>2411</th>\n",
              "      <td>l-93</td>\n",
              "      <td>1</td>\n",
              "      <td>NaN</td>\n",
              "      <td>$5 will buy you a ticket.</td>\n",
              "    </tr>\n",
              "    <tr>\n",
              "      <th>8456</th>\n",
              "      <td>ad03</td>\n",
              "      <td>0</td>\n",
              "      <td>*</td>\n",
              "      <td>Peter is the old pigs.</td>\n",
              "    </tr>\n",
              "    <tr>\n",
              "      <th>6383</th>\n",
              "      <td>d_98</td>\n",
              "      <td>1</td>\n",
              "      <td>NaN</td>\n",
              "      <td>You may pick any flower except the rose.</td>\n",
              "    </tr>\n",
              "    <tr>\n",
              "      <th>906</th>\n",
              "      <td>bc01</td>\n",
              "      <td>1</td>\n",
              "      <td>NaN</td>\n",
              "      <td>Joe likes his bar, and Sally's patrons do too.</td>\n",
              "    </tr>\n",
              "    <tr>\n",
              "      <th>3417</th>\n",
              "      <td>l-93</td>\n",
              "      <td>0</td>\n",
              "      <td>*</td>\n",
              "      <td>The phone company billed $10 to me.</td>\n",
              "    </tr>\n",
              "    <tr>\n",
              "      <th>3977</th>\n",
              "      <td>ks08</td>\n",
              "      <td>0</td>\n",
              "      <td>*</td>\n",
              "      <td>Oliver addressed the king the letter.</td>\n",
              "    </tr>\n",
              "    <tr>\n",
              "      <th>4189</th>\n",
              "      <td>ks08</td>\n",
              "      <td>0</td>\n",
              "      <td>*</td>\n",
              "      <td>One of the story has appeared in your newspaper.</td>\n",
              "    </tr>\n",
              "  </tbody>\n",
              "</table>\n",
              "</div>"
            ],
            "text/plain": [
              "     sentence_source  ...                                          sentence\n",
              "3335            l-93  ...    There ran through the valley a rushing stream.\n",
              "2853            l-93  ...                              Carol cut her thumb.\n",
              "5992            c_13  ...                              Ate Bill his dinner?\n",
              "2411            l-93  ...                         $5 will buy you a ticket.\n",
              "8456            ad03  ...                            Peter is the old pigs.\n",
              "6383            d_98  ...          You may pick any flower except the rose.\n",
              "906             bc01  ...    Joe likes his bar, and Sally's patrons do too.\n",
              "3417            l-93  ...               The phone company billed $10 to me.\n",
              "3977            ks08  ...             Oliver addressed the king the letter.\n",
              "4189            ks08  ...  One of the story has appeared in your newspaper.\n",
              "\n",
              "[10 rows x 4 columns]"
            ]
          },
          "metadata": {
            "tags": []
          },
          "execution_count": 5
        }
      ]
    },
    {
      "cell_type": "markdown",
      "metadata": {
        "pycharm": {
          "name": "#%% md\n"
        },
        "id": "oPl1u-8BUThS"
      },
      "source": [
        "As duas propriedades importantes são as frases (*sentence*) e seus rótulos (*label*), que podem ser 0 = incorreta e 1 = correta.\n",
        "\n",
        "Aqui estão cinco frases que são rotuladas como incorretas gramaticalmente (em inglês). Observe como essa tarefa é muito mais difícil do que algo como análise de sentimento!"
      ]
    },
    {
      "cell_type": "code",
      "metadata": {
        "colab": {
          "base_uri": "https://localhost:8080/",
          "height": 204
        },
        "id": "J4rp0KUmUThS",
        "outputId": "d2fc88ce-5eed-4663-e831-65083fbabbee"
      },
      "source": [
        "df.loc[df.label == 0].sample(5)[['sentence', 'label']]\n"
      ],
      "execution_count": 8,
      "outputs": [
        {
          "output_type": "execute_result",
          "data": {
            "text/html": [
              "<div>\n",
              "<style scoped>\n",
              "    .dataframe tbody tr th:only-of-type {\n",
              "        vertical-align: middle;\n",
              "    }\n",
              "\n",
              "    .dataframe tbody tr th {\n",
              "        vertical-align: top;\n",
              "    }\n",
              "\n",
              "    .dataframe thead th {\n",
              "        text-align: right;\n",
              "    }\n",
              "</style>\n",
              "<table border=\"1\" class=\"dataframe\">\n",
              "  <thead>\n",
              "    <tr style=\"text-align: right;\">\n",
              "      <th></th>\n",
              "      <th>sentence</th>\n",
              "      <th>label</th>\n",
              "    </tr>\n",
              "  </thead>\n",
              "  <tbody>\n",
              "    <tr>\n",
              "      <th>1387</th>\n",
              "      <td>The place which I live at is the place where R...</td>\n",
              "      <td>0</td>\n",
              "    </tr>\n",
              "    <tr>\n",
              "      <th>3498</th>\n",
              "      <td>A pastor was executed, notwithstanding on many...</td>\n",
              "      <td>0</td>\n",
              "    </tr>\n",
              "    <tr>\n",
              "      <th>8194</th>\n",
              "      <td>I sent she away.</td>\n",
              "      <td>0</td>\n",
              "    </tr>\n",
              "    <tr>\n",
              "      <th>2674</th>\n",
              "      <td>Books send easily to children.</td>\n",
              "      <td>0</td>\n",
              "    </tr>\n",
              "    <tr>\n",
              "      <th>1365</th>\n",
              "      <td>The boy's guardian's we elected employer presi...</td>\n",
              "      <td>0</td>\n",
              "    </tr>\n",
              "  </tbody>\n",
              "</table>\n",
              "</div>"
            ],
            "text/plain": [
              "                                               sentence  label\n",
              "1387  The place which I live at is the place where R...      0\n",
              "3498  A pastor was executed, notwithstanding on many...      0\n",
              "8194                                   I sent she away.      0\n",
              "2674                     Books send easily to children.      0\n",
              "1365  The boy's guardian's we elected employer presi...      0"
            ]
          },
          "metadata": {
            "tags": []
          },
          "execution_count": 8
        }
      ]
    },
    {
      "cell_type": "markdown",
      "metadata": {
        "id": "xPOPhM5uUThT"
      },
      "source": [
        "Vamos extrair as frases e seus rótulos do nosso corpus de treinamento como *numpy ndarrays*."
      ]
    },
    {
      "cell_type": "code",
      "metadata": {
        "pycharm": {
          "is_executing": false,
          "name": "#%%\n"
        },
        "id": "Ozgqh2jUUThT"
      },
      "source": [
        "# Lista de sentenças e seus rótulos\n",
        "sentences = df.sentence.values\n",
        "labels = df.label.values"
      ],
      "execution_count": 10,
      "outputs": []
    },
    {
      "cell_type": "markdown",
      "metadata": {
        "pycharm": {
          "name": "#%% md\n"
        },
        "id": "eZrtVcKtUThT"
      },
      "source": [
        "### Tokenização\n",
        "\n",
        "Agora vamos transformar nosso conjunto de dados no formato em que o BERT pode ser treinado.\n",
        "\n",
        "Para alimentar o BERT com nosso texto, ele deve ser dividido em *tokens* e, em seguida, esses *tokens* devem ser mapeados para seu índice no vocabulário do tokenizador.\n",
        "\n",
        "A tokenização deve ser realizada pelo tokenizador incluído no modelo BERT que estamos trabalhando, que vamos baixar no código abaixo."
      ]
    },
    {
      "cell_type": "code",
      "metadata": {
        "pycharm": {
          "is_executing": false,
          "name": "#%%\n"
        },
        "colab": {
          "base_uri": "https://localhost:8080/",
          "height": 83,
          "referenced_widgets": [
            "0cb9049145974d55b3e8c9b075c16185",
            "e6bc4fa3801b45e189c6e7f3de641c06",
            "4f3b06cac2094a61b00f9a13b55bfc1c",
            "d00d3f968679442d9f69ba775ae843d1",
            "38e4081b0ee2413a9b525a0fef919d89",
            "6787ebe6ab364f83b72b90406adc6589",
            "7a6bcf541fe14666ae9996eee77f5205",
            "c2c278cfcaca4e718bcbd866769e1842"
          ]
        },
        "id": "N7x158YBUThT",
        "outputId": "7313952b-f603-4e0a-9a70-3fd3adf86b32"
      },
      "source": [
        "from transformers import BertTokenizer\n",
        "\n",
        "# Carregar o tokenizador BERT.\n",
        "print('Carregando tokenizador BERT...')\n",
        "tokenizer = BertTokenizer.from_pretrained('bert-base-uncased', do_lower_case=True)"
      ],
      "execution_count": 11,
      "outputs": [
        {
          "output_type": "stream",
          "text": [
            "Carregando tokenizador BERT...\n"
          ],
          "name": "stdout"
        },
        {
          "output_type": "display_data",
          "data": {
            "application/vnd.jupyter.widget-view+json": {
              "model_id": "0cb9049145974d55b3e8c9b075c16185",
              "version_minor": 0,
              "version_major": 2
            },
            "text/plain": [
              "HBox(children=(FloatProgress(value=0.0, description='Downloading', max=231508.0, style=ProgressStyle(descripti…"
            ]
          },
          "metadata": {
            "tags": []
          }
        },
        {
          "output_type": "stream",
          "text": [
            "\n"
          ],
          "name": "stdout"
        }
      ]
    },
    {
      "cell_type": "markdown",
      "metadata": {
        "pycharm": {
          "is_executing": false,
          "name": "#%% md\n"
        },
        "id": "vH1IYgJnUThU"
      },
      "source": [
        "Vamos aplicar o tokenizador a uma frase para ver a saída."
      ]
    },
    {
      "cell_type": "code",
      "metadata": {
        "pycharm": {
          "is_executing": false,
          "name": "#%% \n"
        },
        "colab": {
          "base_uri": "https://localhost:8080/"
        },
        "id": "IF-KTEmyUThU",
        "outputId": "16b0c4c3-721b-471b-e3b6-3d3a43805b3d"
      },
      "source": [
        "# Frase original\n",
        "print(' Original: ', sentences[0])\n",
        "\n",
        "# Frase dividida em tokens\n",
        "print('Tokenizada: ', tokenizer.tokenize(sentences[0]))\n",
        "\n",
        "# Sentença mapeada em token ids\n",
        "print('Token IDs: ', tokenizer.convert_tokens_to_ids(tokenizer.tokenize(sentences[0])))"
      ],
      "execution_count": 12,
      "outputs": [
        {
          "output_type": "stream",
          "text": [
            " Original:  Our friends won't buy this analysis, let alone the next one we propose.\n",
            "Tokenizada:  ['our', 'friends', 'won', \"'\", 't', 'buy', 'this', 'analysis', ',', 'let', 'alone', 'the', 'next', 'one', 'we', 'propose', '.']\n",
            "Token IDs:  [2256, 2814, 2180, 1005, 1056, 4965, 2023, 4106, 1010, 2292, 2894, 1996, 2279, 2028, 2057, 16599, 1012]\n"
          ],
          "name": "stdout"
        }
      ]
    },
    {
      "cell_type": "markdown",
      "metadata": {
        "pycharm": {
          "name": "#%% md\n"
        },
        "id": "NIaObrfhUThU"
      },
      "source": [
        "Quando realmente convertermos todas as nossas sentenças, usaremos a função ```tokenize.encode``` para lidar com ambas as etapas, em vez de chamar as funções que usamos acima separadamente.\n",
        "\n",
        "Antes de fazermos isso, precisamos falar sobre alguns dos requisitos de formatação do BERT.\n",
        "\n",
        "### Formatação\n",
        "\n",
        "O código acima omitiu algumas etapas de formatação necessárias que veremos aqui.\n",
        "\n",
        "Precisamos:\n",
        "1. Adicionar *tokens* especiais no início e fim de cada frase.\n",
        "2. Prencher e truncar todas as frases para terem o mesmo comprimento.\n",
        "3. Diferenciar explicitamente *tokens* reais de *tokens* de preenchimento (PAD) com a “máscara de atenção”.\n",
        "\n",
        "**Tokens especiais**\n",
        "[SEP] - No final de cada frase, precisamos acrescentar o token especial [SEP], que é usado em tarefas de duas sentenças, onde BERT recebe duas sentenças separadas e é solicitado a determinar algo (por exemplo, a resposta à pergunta na sentença A pode ser encontrada na sentença B).\n",
        "\n",
        "[CLS] - Para tarefas de classificação, devemos acrescentar o [CLS] ao início de cada frase. Como o BERT consiste em 12 camadas de Tranformer, cada uma recebe uma lista de *embeddings* e produz o mesmo número de *embeddings* na saída (com outros valores), na saída do transformador final (12º), apenas o primeiro *embedding* (correspondente ao *token* [CLS]) é usado pelo classificador .\n",
        "\n",
        "“O primeiro *token* de cada sequência é sempre um *token* de classificação especial ([CLS]), onde o estado oculto final deste *token* é usado como a representação da sequência agregada para tarefas de classificação.” (do artigo BERT)\n",
        "\n",
        "Não precisamos pensar em estratégias de *pool* sobre os *embeddings* finais, pois nesse token [CLS] de classificação, o modelo codificou tudo o que precisamos para a classificação naquele único vetor de incorporação de 768 valores. Já está feito o *pool* para nós!\n",
        "\n",
        "*Comprimento da frase e máscara de atenção*\n",
        "\n",
        "As sentenças em nosso conjunto de dados obviamente têm comprimentos variados, então como o BERT lida com isso?\n",
        "\n",
        "BERT tem duas restrições:\n",
        "\n",
        "- Todas as frases devem ser preenchidas ou truncadas em um único comprimento fixo.\n",
        "- O comprimento máximo da frase é 512 *tokens*.\n",
        "\n",
        "O preenchimento é feito com um *token* especial [PAD], que está no índice 0 no vocabulário BERT.\n",
        "\n",
        "A “Máscara de Atenção” é simplesmente uma matriz de 1s e 0s indicando quais *tokens* são de preenchimento e quais não são (parece meio redundante, não é ?). Essa máscara diz ao mecanismo de “Autoatenção” do BERT para não incorporar esses *tokens* (PAD) em sua interpretação da frase.\n",
        "\n",
        "O comprimento máximo afeta a velocidade de treinamento e avaliação. Por exemplo, com um Tesla K80:\n",
        "\n",
        "MAX_LEN = 128 --> Cada época leva ~5:28 para treinar\n",
        "\n",
        "MAX_LEN = 64 --> Cada época leva ~2:57 para treinar\n",
        "\n",
        "**Tokenizar o conjunto de dados**\n",
        "\n",
        "A biblioteca Transformers fornece uma função ```encode``` que tratará da maioria das etapas de análise e preparação de dados para nós.\n",
        "\n",
        "Antes de estarmos prontos para codificar nosso texto, precisamos decidir sobre o comprimento máximo de frase para preenchimento ou truncamento.\n",
        "\n",
        "A célula abaixo realizará uma passagem de tokenização em nosso conjunto de dados para medir o comprimento máximo da frase."
      ]
    },
    {
      "cell_type": "code",
      "metadata": {
        "pycharm": {
          "is_executing": false,
          "name": "#%%\n"
        },
        "colab": {
          "base_uri": "https://localhost:8080/"
        },
        "id": "t-bVl31sUThV",
        "outputId": "e1cc7fe2-8452-41b9-d5b2-142f20fae0d6"
      },
      "source": [
        "max_len = 0\n",
        "\n",
        "# Para cada frase\n",
        "for sent in sentences:\n",
        "\n",
        "    # Tokeniza o texto e adiciona os tokens `[CLS]` e `[SEP]`\n",
        "    input_ids = tokenizer.encode(sent, add_special_tokens=True)\n",
        "\n",
        "    # Atualiza o comprimento máximo da frase\n",
        "    max_len = max(max_len, len(input_ids))\n",
        "\n",
        "print('Frase com tamanho máximo no nosso dataset: ', max_len)"
      ],
      "execution_count": 13,
      "outputs": [
        {
          "output_type": "stream",
          "text": [
            "Frase com tamanho máximo no nosso dataset:  47\n"
          ],
          "name": "stdout"
        }
      ]
    },
    {
      "cell_type": "markdown",
      "metadata": {
        "pycharm": {
          "name": "#%% md\n"
        },
        "id": "4Ph70NljUThW"
      },
      "source": [
        "Para o caso de haver algumas sentenças mais longas no conjunto de teste, vams setar nosso comprimento máximo em 64.\n",
        "\n",
        "Agora estamos prontos para realizar a tokenização.\n",
        "\n",
        "A função ```tokenizer.encode_plus``` realiza várias etapas para nós:\n",
        "\n",
        "1. Divide a frase em *tokens*.\n",
        "2. Adiciona os *tokens* especiais [CLS] e [SEP].\n",
        "3. Mapeia os *tokens* para seus IDs.\n",
        "4. Preenche ou trunca todas as frases com o mesmo comprimento.\n",
        "5. Cria as máscaras de atenção que diferenciam explicitamente *tokens* reais de *tokens* [PAD].\n",
        "\n",
        "As primeiras quatro etapas são realizadas pela função ```tokenizer.encode```, mas vamos usar a ```tokenizer.encode_plus``` para a quinta etapa (máscaras de atenção). [Documentação aqui](https://huggingface.co/transformers/main_classes/tokenizer.html?highlight=encode_plus#transformers.PreTrainedTokenizer.encode_plus)"
      ]
    },
    {
      "cell_type": "code",
      "metadata": {
        "pycharm": {
          "is_executing": false,
          "name": "#%%\n"
        },
        "colab": {
          "base_uri": "https://localhost:8080/"
        },
        "id": "-99KsnSRUThW",
        "outputId": "3a90651d-b8ef-4d6d-e79c-b05723da4f23"
      },
      "source": [
        "# Tokeniza todas as frases e mapeia os tokens em seus IDs\n",
        "input_ids = []\n",
        "attention_masks = []\n",
        "\n",
        "# Para cada frase\n",
        "for sent in sentences:\n",
        "    # `encode_plus` fará o seguinte:\n",
        "    #   (1) Tokeniza a frase\n",
        "    #   (2) Adiciona o token `[CLS]` no inicio\n",
        "    #   (3) Adiciona o token `[SEP]` no final\n",
        "    #   (4) Mapeia os tokens em seus IDs.\n",
        "    #   (5) Adiciona preenchimento (pad) ou trunca a frase atá o comprimento máximo (`max_length`)\n",
        "    #   (6) Cria máscara de atenção para os tokens [PAD].\n",
        "    encoded_dict = tokenizer.encode_plus(\n",
        "                        sent,                      # Frase a ser codificada\n",
        "                        add_special_tokens = True, # Adiciona '[CLS]' e '[SEP]'\n",
        "                        max_length = 64,           # Preenche & trunca todas as frases\n",
        "                        pad_to_max_length = True,\n",
        "                        return_attention_mask = True,   # Constrói máscaras de atenção\n",
        "                        return_tensors = 'pt',     # Returna tensores pytorch.\n",
        "                   )\n",
        "    \n",
        "    # Adiciona a frase codificada na lista\n",
        "    input_ids.append(encoded_dict['input_ids'])\n",
        "    \n",
        "    # E sua máscara de atenção (simplesmente diferencia tokens reais de tokens de preenchimento - PAD).\n",
        "    attention_masks.append(encoded_dict['attention_mask'])\n",
        "\n",
        "# Converte a lista em tensores\n",
        "input_ids = torch.cat(input_ids, dim=0)\n",
        "attention_masks = torch.cat(attention_masks, dim=0)\n",
        "labels = torch.tensor(labels)\n",
        "\n",
        "# Imprime frase 0, agora como uma lista de IDs.\n",
        "print('Original: ', sentences[0])\n",
        "print('Token IDs:', input_ids[0])"
      ],
      "execution_count": 14,
      "outputs": [
        {
          "output_type": "stream",
          "text": [
            "Original:  Our friends won't buy this analysis, let alone the next one we propose.\n",
            "Token IDs: tensor([  101,  2256,  2814,  2180,  1005,  1056,  4965,  2023,  4106,  1010,\n",
            "         2292,  2894,  1996,  2279,  2028,  2057, 16599,  1012,   102,     0,\n",
            "            0,     0,     0,     0,     0,     0,     0,     0,     0,     0,\n",
            "            0,     0,     0,     0,     0,     0,     0,     0,     0,     0,\n",
            "            0,     0,     0,     0,     0,     0,     0,     0,     0,     0,\n",
            "            0,     0,     0,     0,     0,     0,     0,     0,     0,     0,\n",
            "            0,     0,     0,     0])\n"
          ],
          "name": "stdout"
        }
      ]
    },
    {
      "cell_type": "markdown",
      "metadata": {
        "pycharm": {
          "name": "#%% md\n"
        },
        "id": "LpEzUITwUThX"
      },
      "source": [
        "### Divisão dos dados - treinamento e validação\n",
        "\n",
        "Precisamos agora dividir nosso conjunto de treinamento, em 90% para treinamento e 10% para validação.\n"
      ]
    },
    {
      "cell_type": "code",
      "metadata": {
        "pycharm": {
          "is_executing": false,
          "name": "#%%\n"
        },
        "colab": {
          "base_uri": "https://localhost:8080/"
        },
        "id": "YbziTD_xUThX",
        "outputId": "368c2ae2-bb8d-473b-dcde-26c42d5c9a22"
      },
      "source": [
        "from torch.utils.data import TensorDataset, random_split\n",
        "\n",
        "# Combina as entradas de treinamento em um TensorDataset.\n",
        "dataset = TensorDataset(input_ids, attention_masks, labels)\n",
        "\n",
        "# Criar uma divisão 90-10 para treinamento-validação.\n",
        "\n",
        "# Calcula o número de instâncias para incluir em cada divisão\n",
        "train_size = int(0.9 * len(dataset))\n",
        "val_size = len(dataset) - train_size\n",
        "\n",
        "# Divide o dataset pegando randomicamente as instância \n",
        "train_dataset, val_dataset = random_split(dataset, [train_size, val_size])\n",
        "\n",
        "print('{:>5,} instâncias de treinamento'.format(train_size))\n",
        "print('{:>5,} instâncias de validação'.format(val_size))"
      ],
      "execution_count": 15,
      "outputs": [
        {
          "output_type": "stream",
          "text": [
            "7,695 instâncias de treinamento\n",
            "  856 instâncias de validação\n"
          ],
          "name": "stdout"
        }
      ]
    },
    {
      "cell_type": "markdown",
      "metadata": {
        "id": "11MFCzUbUThY"
      },
      "source": [
        "Vamos criar um iterador para nosso conjunto de dados usando a classe *DataLoader*, para economizar memória durante o treinamento, visto que, ao contrário de um *loop* com *for*, com o iterador o conjunto de dados inteiro não precisa ser carregado na memória."
      ]
    },
    {
      "cell_type": "code",
      "metadata": {
        "id": "fFdSvaIyUThY"
      },
      "source": [
        "from torch.utils.data import DataLoader, RandomSampler, SequentialSampler\n",
        "\n",
        "# O DataLoader precisa saber no tamanho do batch size para treinamento, então vamos espeficiar\n",
        "# Para o fine-tuning em uma tarefa, os autores recomendam um batch size de 16 ou 32.\n",
        "batch_size = 32\n",
        "\n",
        "# Criar os DataLoaders para nossos conjuntos de treinamento e teste\n",
        "# Vamos pegar instâncias de treinamento em ordem aleatória\n",
        "train_dataloader = DataLoader(\n",
        "            train_dataset,  # Exemplos de treinamento\n",
        "            sampler = RandomSampler(train_dataset), # Seleciona batches aleatoriamente\n",
        "            batch_size = batch_size # Treina com este batch size.\n",
        "        )\n",
        "\n",
        "# Para validação, a ordem não importa, então vamos mantê-la sequencial\n",
        "validation_dataloader = DataLoader(\n",
        "            val_dataset, # Exemplos de validação.\n",
        "            sampler = SequentialSampler(val_dataset), # Executa os batches sequencialmente.\n",
        "            batch_size = batch_size # Avalia com este batch size.\n",
        "        )"
      ],
      "execution_count": 17,
      "outputs": []
    },
    {
      "cell_type": "markdown",
      "metadata": {
        "id": "fF0XtfxIUThY"
      },
      "source": [
        "## Modelo de classificação\n",
        "\n",
        "Agora que nossos dados de entrada estão formatados corretamente, é hora de especializar o modelo BERT.\n",
        "\n",
        "### BertForSequenceClassification\n",
        "\n",
        "Para a tarefa de classificação, vamos modificar o modelo BERT pré-treinado para fornecer saídas para classificação e, em seguida, treinar todo modelo em nosso conjunto de dados até que esteja especializado para nossa tarefa.\n",
        "\n",
        "Felizmente, a implementação *Pytorch* do Hugging Face inclui um conjunto de interfaces projetadas para uma variedade de tarefas de PLN. Embora essas interfaces sejam todas construídas em cima de um modelo BERT treinado, cada uma tem diferentes camadas superiores e tipos de saída projetados para nossa tarefa PLN específica.\n",
        "\n",
        "Aqui está a lista atual de classes fornecidas para a especialização da tarefa (ajuste fino ou *fine tuning*):\n",
        "\n",
        "1. BertModel\n",
        "1. BertForPreTraining\n",
        "1. BertForMaskedLM\n",
        "1. BertForNextSentencePrediction\n",
        "1. BertForSequenceClassification (**usaremos aqui**)\n",
        "1. BertForTokenClassification\n",
        "1. BertForQuestionAnswering\n",
        "\n",
        "A documentação para eles pode ser encontrada [aqui](https://huggingface.co/transformers/v2.2.0/model_doc/bert.html).\n",
        "\n",
        "Estaremos usando *BertForSequenceClassification*, modelo BERT com uma camada linear única adicionada no topo para classificação, que será usado como um classificador de frases. A medida que alimentamos os dados de entrada, todo o modelo BERT pré-treinado e a camada adicional de classificação não treinada serão treinados em nossa tarefa específica.\n",
        "\n",
        "OK, vamos carregar o BERT! Existem alguns modelos diferentes de BERT pré-treinados disponíveis. “bert-base-uncased”, modell em inglês, significa a versão que tem apenas letras minúsculas (“sem caixa”) e é a versão menor das duas (“base” vs “large”).\n",
        "\n",
        "A documentação do método ```from_pretrained``` pode ser encontrada [aqui](https://huggingface.co/transformers/v2.2.0/main_classes/model.html#transformers.PreTrainedModel.from_pretrained), com os parâmetros adicionais definidos [aqui](https://huggingface.co/transformers/v2.2.0/main_classes/configuration.html#transformers.PretrainedConfig)."
      ]
    },
    {
      "cell_type": "code",
      "metadata": {
        "colab": {
          "base_uri": "https://localhost:8080/"
        },
        "id": "EZ1XxRwlUThY",
        "outputId": "9534de38-4405-4b4e-da69-012c118a33ee"
      },
      "source": [
        "from transformers import BertForSequenceClassification, AdamW, BertConfig\n",
        "\n",
        "# Carrega a classe BertForSequenceClassification, o modelo pre-treinado com uma camada linear simples no topo\n",
        "model = BertForSequenceClassification.from_pretrained(\n",
        "    \"bert-base-uncased\", # Usa o BERT com 12 camadas, com vocabulario com caixa baixa\n",
        "    num_labels = 2, # O número de saídas, ou rótulos, do nosso modelo (classificação binária em nosso caso)\n",
        "                    # Para tarefas com mais classes (multi-classe), podemos aumentar esse número\n",
        "    output_attentions = False, # Se o modelo deve retornar os pesos de atenção\n",
        "    output_hidden_states = False, # Se o modelo deve retornar todos estados escondidos\n",
        ")\n",
        "\n",
        "# Se você tem GPU, configura o pytorch para executar o modelo na GPU\n",
        "model.cuda()"
      ],
      "execution_count": 25,
      "outputs": [
        {
          "output_type": "execute_result",
          "data": {
            "text/plain": [
              "BertForSequenceClassification(\n",
              "  (bert): BertModel(\n",
              "    (embeddings): BertEmbeddings(\n",
              "      (word_embeddings): Embedding(30522, 768, padding_idx=0)\n",
              "      (position_embeddings): Embedding(512, 768)\n",
              "      (token_type_embeddings): Embedding(2, 768)\n",
              "      (LayerNorm): LayerNorm((768,), eps=1e-12, elementwise_affine=True)\n",
              "      (dropout): Dropout(p=0.1, inplace=False)\n",
              "    )\n",
              "    (encoder): BertEncoder(\n",
              "      (layer): ModuleList(\n",
              "        (0): BertLayer(\n",
              "          (attention): BertAttention(\n",
              "            (self): BertSelfAttention(\n",
              "              (query): Linear(in_features=768, out_features=768, bias=True)\n",
              "              (key): Linear(in_features=768, out_features=768, bias=True)\n",
              "              (value): Linear(in_features=768, out_features=768, bias=True)\n",
              "              (dropout): Dropout(p=0.1, inplace=False)\n",
              "            )\n",
              "            (output): BertSelfOutput(\n",
              "              (dense): Linear(in_features=768, out_features=768, bias=True)\n",
              "              (LayerNorm): LayerNorm((768,), eps=1e-12, elementwise_affine=True)\n",
              "              (dropout): Dropout(p=0.1, inplace=False)\n",
              "            )\n",
              "          )\n",
              "          (intermediate): BertIntermediate(\n",
              "            (dense): Linear(in_features=768, out_features=3072, bias=True)\n",
              "          )\n",
              "          (output): BertOutput(\n",
              "            (dense): Linear(in_features=3072, out_features=768, bias=True)\n",
              "            (LayerNorm): LayerNorm((768,), eps=1e-12, elementwise_affine=True)\n",
              "            (dropout): Dropout(p=0.1, inplace=False)\n",
              "          )\n",
              "        )\n",
              "        (1): BertLayer(\n",
              "          (attention): BertAttention(\n",
              "            (self): BertSelfAttention(\n",
              "              (query): Linear(in_features=768, out_features=768, bias=True)\n",
              "              (key): Linear(in_features=768, out_features=768, bias=True)\n",
              "              (value): Linear(in_features=768, out_features=768, bias=True)\n",
              "              (dropout): Dropout(p=0.1, inplace=False)\n",
              "            )\n",
              "            (output): BertSelfOutput(\n",
              "              (dense): Linear(in_features=768, out_features=768, bias=True)\n",
              "              (LayerNorm): LayerNorm((768,), eps=1e-12, elementwise_affine=True)\n",
              "              (dropout): Dropout(p=0.1, inplace=False)\n",
              "            )\n",
              "          )\n",
              "          (intermediate): BertIntermediate(\n",
              "            (dense): Linear(in_features=768, out_features=3072, bias=True)\n",
              "          )\n",
              "          (output): BertOutput(\n",
              "            (dense): Linear(in_features=3072, out_features=768, bias=True)\n",
              "            (LayerNorm): LayerNorm((768,), eps=1e-12, elementwise_affine=True)\n",
              "            (dropout): Dropout(p=0.1, inplace=False)\n",
              "          )\n",
              "        )\n",
              "        (2): BertLayer(\n",
              "          (attention): BertAttention(\n",
              "            (self): BertSelfAttention(\n",
              "              (query): Linear(in_features=768, out_features=768, bias=True)\n",
              "              (key): Linear(in_features=768, out_features=768, bias=True)\n",
              "              (value): Linear(in_features=768, out_features=768, bias=True)\n",
              "              (dropout): Dropout(p=0.1, inplace=False)\n",
              "            )\n",
              "            (output): BertSelfOutput(\n",
              "              (dense): Linear(in_features=768, out_features=768, bias=True)\n",
              "              (LayerNorm): LayerNorm((768,), eps=1e-12, elementwise_affine=True)\n",
              "              (dropout): Dropout(p=0.1, inplace=False)\n",
              "            )\n",
              "          )\n",
              "          (intermediate): BertIntermediate(\n",
              "            (dense): Linear(in_features=768, out_features=3072, bias=True)\n",
              "          )\n",
              "          (output): BertOutput(\n",
              "            (dense): Linear(in_features=3072, out_features=768, bias=True)\n",
              "            (LayerNorm): LayerNorm((768,), eps=1e-12, elementwise_affine=True)\n",
              "            (dropout): Dropout(p=0.1, inplace=False)\n",
              "          )\n",
              "        )\n",
              "        (3): BertLayer(\n",
              "          (attention): BertAttention(\n",
              "            (self): BertSelfAttention(\n",
              "              (query): Linear(in_features=768, out_features=768, bias=True)\n",
              "              (key): Linear(in_features=768, out_features=768, bias=True)\n",
              "              (value): Linear(in_features=768, out_features=768, bias=True)\n",
              "              (dropout): Dropout(p=0.1, inplace=False)\n",
              "            )\n",
              "            (output): BertSelfOutput(\n",
              "              (dense): Linear(in_features=768, out_features=768, bias=True)\n",
              "              (LayerNorm): LayerNorm((768,), eps=1e-12, elementwise_affine=True)\n",
              "              (dropout): Dropout(p=0.1, inplace=False)\n",
              "            )\n",
              "          )\n",
              "          (intermediate): BertIntermediate(\n",
              "            (dense): Linear(in_features=768, out_features=3072, bias=True)\n",
              "          )\n",
              "          (output): BertOutput(\n",
              "            (dense): Linear(in_features=3072, out_features=768, bias=True)\n",
              "            (LayerNorm): LayerNorm((768,), eps=1e-12, elementwise_affine=True)\n",
              "            (dropout): Dropout(p=0.1, inplace=False)\n",
              "          )\n",
              "        )\n",
              "        (4): BertLayer(\n",
              "          (attention): BertAttention(\n",
              "            (self): BertSelfAttention(\n",
              "              (query): Linear(in_features=768, out_features=768, bias=True)\n",
              "              (key): Linear(in_features=768, out_features=768, bias=True)\n",
              "              (value): Linear(in_features=768, out_features=768, bias=True)\n",
              "              (dropout): Dropout(p=0.1, inplace=False)\n",
              "            )\n",
              "            (output): BertSelfOutput(\n",
              "              (dense): Linear(in_features=768, out_features=768, bias=True)\n",
              "              (LayerNorm): LayerNorm((768,), eps=1e-12, elementwise_affine=True)\n",
              "              (dropout): Dropout(p=0.1, inplace=False)\n",
              "            )\n",
              "          )\n",
              "          (intermediate): BertIntermediate(\n",
              "            (dense): Linear(in_features=768, out_features=3072, bias=True)\n",
              "          )\n",
              "          (output): BertOutput(\n",
              "            (dense): Linear(in_features=3072, out_features=768, bias=True)\n",
              "            (LayerNorm): LayerNorm((768,), eps=1e-12, elementwise_affine=True)\n",
              "            (dropout): Dropout(p=0.1, inplace=False)\n",
              "          )\n",
              "        )\n",
              "        (5): BertLayer(\n",
              "          (attention): BertAttention(\n",
              "            (self): BertSelfAttention(\n",
              "              (query): Linear(in_features=768, out_features=768, bias=True)\n",
              "              (key): Linear(in_features=768, out_features=768, bias=True)\n",
              "              (value): Linear(in_features=768, out_features=768, bias=True)\n",
              "              (dropout): Dropout(p=0.1, inplace=False)\n",
              "            )\n",
              "            (output): BertSelfOutput(\n",
              "              (dense): Linear(in_features=768, out_features=768, bias=True)\n",
              "              (LayerNorm): LayerNorm((768,), eps=1e-12, elementwise_affine=True)\n",
              "              (dropout): Dropout(p=0.1, inplace=False)\n",
              "            )\n",
              "          )\n",
              "          (intermediate): BertIntermediate(\n",
              "            (dense): Linear(in_features=768, out_features=3072, bias=True)\n",
              "          )\n",
              "          (output): BertOutput(\n",
              "            (dense): Linear(in_features=3072, out_features=768, bias=True)\n",
              "            (LayerNorm): LayerNorm((768,), eps=1e-12, elementwise_affine=True)\n",
              "            (dropout): Dropout(p=0.1, inplace=False)\n",
              "          )\n",
              "        )\n",
              "        (6): BertLayer(\n",
              "          (attention): BertAttention(\n",
              "            (self): BertSelfAttention(\n",
              "              (query): Linear(in_features=768, out_features=768, bias=True)\n",
              "              (key): Linear(in_features=768, out_features=768, bias=True)\n",
              "              (value): Linear(in_features=768, out_features=768, bias=True)\n",
              "              (dropout): Dropout(p=0.1, inplace=False)\n",
              "            )\n",
              "            (output): BertSelfOutput(\n",
              "              (dense): Linear(in_features=768, out_features=768, bias=True)\n",
              "              (LayerNorm): LayerNorm((768,), eps=1e-12, elementwise_affine=True)\n",
              "              (dropout): Dropout(p=0.1, inplace=False)\n",
              "            )\n",
              "          )\n",
              "          (intermediate): BertIntermediate(\n",
              "            (dense): Linear(in_features=768, out_features=3072, bias=True)\n",
              "          )\n",
              "          (output): BertOutput(\n",
              "            (dense): Linear(in_features=3072, out_features=768, bias=True)\n",
              "            (LayerNorm): LayerNorm((768,), eps=1e-12, elementwise_affine=True)\n",
              "            (dropout): Dropout(p=0.1, inplace=False)\n",
              "          )\n",
              "        )\n",
              "        (7): BertLayer(\n",
              "          (attention): BertAttention(\n",
              "            (self): BertSelfAttention(\n",
              "              (query): Linear(in_features=768, out_features=768, bias=True)\n",
              "              (key): Linear(in_features=768, out_features=768, bias=True)\n",
              "              (value): Linear(in_features=768, out_features=768, bias=True)\n",
              "              (dropout): Dropout(p=0.1, inplace=False)\n",
              "            )\n",
              "            (output): BertSelfOutput(\n",
              "              (dense): Linear(in_features=768, out_features=768, bias=True)\n",
              "              (LayerNorm): LayerNorm((768,), eps=1e-12, elementwise_affine=True)\n",
              "              (dropout): Dropout(p=0.1, inplace=False)\n",
              "            )\n",
              "          )\n",
              "          (intermediate): BertIntermediate(\n",
              "            (dense): Linear(in_features=768, out_features=3072, bias=True)\n",
              "          )\n",
              "          (output): BertOutput(\n",
              "            (dense): Linear(in_features=3072, out_features=768, bias=True)\n",
              "            (LayerNorm): LayerNorm((768,), eps=1e-12, elementwise_affine=True)\n",
              "            (dropout): Dropout(p=0.1, inplace=False)\n",
              "          )\n",
              "        )\n",
              "        (8): BertLayer(\n",
              "          (attention): BertAttention(\n",
              "            (self): BertSelfAttention(\n",
              "              (query): Linear(in_features=768, out_features=768, bias=True)\n",
              "              (key): Linear(in_features=768, out_features=768, bias=True)\n",
              "              (value): Linear(in_features=768, out_features=768, bias=True)\n",
              "              (dropout): Dropout(p=0.1, inplace=False)\n",
              "            )\n",
              "            (output): BertSelfOutput(\n",
              "              (dense): Linear(in_features=768, out_features=768, bias=True)\n",
              "              (LayerNorm): LayerNorm((768,), eps=1e-12, elementwise_affine=True)\n",
              "              (dropout): Dropout(p=0.1, inplace=False)\n",
              "            )\n",
              "          )\n",
              "          (intermediate): BertIntermediate(\n",
              "            (dense): Linear(in_features=768, out_features=3072, bias=True)\n",
              "          )\n",
              "          (output): BertOutput(\n",
              "            (dense): Linear(in_features=3072, out_features=768, bias=True)\n",
              "            (LayerNorm): LayerNorm((768,), eps=1e-12, elementwise_affine=True)\n",
              "            (dropout): Dropout(p=0.1, inplace=False)\n",
              "          )\n",
              "        )\n",
              "        (9): BertLayer(\n",
              "          (attention): BertAttention(\n",
              "            (self): BertSelfAttention(\n",
              "              (query): Linear(in_features=768, out_features=768, bias=True)\n",
              "              (key): Linear(in_features=768, out_features=768, bias=True)\n",
              "              (value): Linear(in_features=768, out_features=768, bias=True)\n",
              "              (dropout): Dropout(p=0.1, inplace=False)\n",
              "            )\n",
              "            (output): BertSelfOutput(\n",
              "              (dense): Linear(in_features=768, out_features=768, bias=True)\n",
              "              (LayerNorm): LayerNorm((768,), eps=1e-12, elementwise_affine=True)\n",
              "              (dropout): Dropout(p=0.1, inplace=False)\n",
              "            )\n",
              "          )\n",
              "          (intermediate): BertIntermediate(\n",
              "            (dense): Linear(in_features=768, out_features=3072, bias=True)\n",
              "          )\n",
              "          (output): BertOutput(\n",
              "            (dense): Linear(in_features=3072, out_features=768, bias=True)\n",
              "            (LayerNorm): LayerNorm((768,), eps=1e-12, elementwise_affine=True)\n",
              "            (dropout): Dropout(p=0.1, inplace=False)\n",
              "          )\n",
              "        )\n",
              "        (10): BertLayer(\n",
              "          (attention): BertAttention(\n",
              "            (self): BertSelfAttention(\n",
              "              (query): Linear(in_features=768, out_features=768, bias=True)\n",
              "              (key): Linear(in_features=768, out_features=768, bias=True)\n",
              "              (value): Linear(in_features=768, out_features=768, bias=True)\n",
              "              (dropout): Dropout(p=0.1, inplace=False)\n",
              "            )\n",
              "            (output): BertSelfOutput(\n",
              "              (dense): Linear(in_features=768, out_features=768, bias=True)\n",
              "              (LayerNorm): LayerNorm((768,), eps=1e-12, elementwise_affine=True)\n",
              "              (dropout): Dropout(p=0.1, inplace=False)\n",
              "            )\n",
              "          )\n",
              "          (intermediate): BertIntermediate(\n",
              "            (dense): Linear(in_features=768, out_features=3072, bias=True)\n",
              "          )\n",
              "          (output): BertOutput(\n",
              "            (dense): Linear(in_features=3072, out_features=768, bias=True)\n",
              "            (LayerNorm): LayerNorm((768,), eps=1e-12, elementwise_affine=True)\n",
              "            (dropout): Dropout(p=0.1, inplace=False)\n",
              "          )\n",
              "        )\n",
              "        (11): BertLayer(\n",
              "          (attention): BertAttention(\n",
              "            (self): BertSelfAttention(\n",
              "              (query): Linear(in_features=768, out_features=768, bias=True)\n",
              "              (key): Linear(in_features=768, out_features=768, bias=True)\n",
              "              (value): Linear(in_features=768, out_features=768, bias=True)\n",
              "              (dropout): Dropout(p=0.1, inplace=False)\n",
              "            )\n",
              "            (output): BertSelfOutput(\n",
              "              (dense): Linear(in_features=768, out_features=768, bias=True)\n",
              "              (LayerNorm): LayerNorm((768,), eps=1e-12, elementwise_affine=True)\n",
              "              (dropout): Dropout(p=0.1, inplace=False)\n",
              "            )\n",
              "          )\n",
              "          (intermediate): BertIntermediate(\n",
              "            (dense): Linear(in_features=768, out_features=3072, bias=True)\n",
              "          )\n",
              "          (output): BertOutput(\n",
              "            (dense): Linear(in_features=3072, out_features=768, bias=True)\n",
              "            (LayerNorm): LayerNorm((768,), eps=1e-12, elementwise_affine=True)\n",
              "            (dropout): Dropout(p=0.1, inplace=False)\n",
              "          )\n",
              "        )\n",
              "      )\n",
              "    )\n",
              "    (pooler): BertPooler(\n",
              "      (dense): Linear(in_features=768, out_features=768, bias=True)\n",
              "      (activation): Tanh()\n",
              "    )\n",
              "  )\n",
              "  (dropout): Dropout(p=0.1, inplace=False)\n",
              "  (classifier): Linear(in_features=768, out_features=2, bias=True)\n",
              ")"
            ]
          },
          "metadata": {
            "tags": []
          },
          "execution_count": 25
        }
      ]
    },
    {
      "cell_type": "markdown",
      "metadata": {
        "id": "uGO0u1gjUThZ"
      },
      "source": [
        "Apenas por curiosidade, podemos navegar por todos os parâmetros do modelo.\n",
        "\n",
        "Na célula abaixo, imprimimos os nomes e dimensões dos pesos para:\n",
        "\n",
        "1. A camada de incorporação.\n",
        "1. O primeiro dos doze transformadores.\n",
        "1. A camada de saída."
      ]
    },
    {
      "cell_type": "code",
      "metadata": {
        "colab": {
          "base_uri": "https://localhost:8080/"
        },
        "id": "2xnrLqqkUThZ",
        "outputId": "9aafea18-6c67-42d6-9856-2f07f903e84f"
      },
      "source": [
        "# Lista todos os paremtros do modelo como uma lista de tuplas\n",
        "params = list(model.named_parameters())\n",
        "\n",
        "print('O modelo BERT tem {:} parâmetros diferentes.\\n'.format(len(params)))\n",
        "\n",
        "print('==== Camada de incorporação (Embedding) ====\\n')\n",
        "\n",
        "for p in params[0:5]:\n",
        "    print(\"{:<55} {:>12}\".format(p[0], str(tuple(p[1].size()))))\n",
        "\n",
        "print('\\n==== Primeiro Transformer ====\\n')\n",
        "\n",
        "for p in params[5:21]:\n",
        "    print(\"{:<55} {:>12}\".format(p[0], str(tuple(p[1].size()))))\n",
        "\n",
        "print('\\n==== Camada de Saída ====\\n')\n",
        "\n",
        "for p in params[-4:]:\n",
        "    print(\"{:<55} {:>12}\".format(p[0], str(tuple(p[1].size()))))"
      ],
      "execution_count": 26,
      "outputs": [
        {
          "output_type": "stream",
          "text": [
            "O modelo BERT tem 201 parâmetros diferentes.\n",
            "\n",
            "==== Camada de incorporação (Embedding) ====\n",
            "\n",
            "bert.embeddings.word_embeddings.weight                  (30522, 768)\n",
            "bert.embeddings.position_embeddings.weight                (512, 768)\n",
            "bert.embeddings.token_type_embeddings.weight                (2, 768)\n",
            "bert.embeddings.LayerNorm.weight                              (768,)\n",
            "bert.embeddings.LayerNorm.bias                                (768,)\n",
            "\n",
            "==== Primeiro Transformer ====\n",
            "\n",
            "bert.encoder.layer.0.attention.self.query.weight          (768, 768)\n",
            "bert.encoder.layer.0.attention.self.query.bias                (768,)\n",
            "bert.encoder.layer.0.attention.self.key.weight            (768, 768)\n",
            "bert.encoder.layer.0.attention.self.key.bias                  (768,)\n",
            "bert.encoder.layer.0.attention.self.value.weight          (768, 768)\n",
            "bert.encoder.layer.0.attention.self.value.bias                (768,)\n",
            "bert.encoder.layer.0.attention.output.dense.weight        (768, 768)\n",
            "bert.encoder.layer.0.attention.output.dense.bias              (768,)\n",
            "bert.encoder.layer.0.attention.output.LayerNorm.weight        (768,)\n",
            "bert.encoder.layer.0.attention.output.LayerNorm.bias          (768,)\n",
            "bert.encoder.layer.0.intermediate.dense.weight           (3072, 768)\n",
            "bert.encoder.layer.0.intermediate.dense.bias                 (3072,)\n",
            "bert.encoder.layer.0.output.dense.weight                 (768, 3072)\n",
            "bert.encoder.layer.0.output.dense.bias                        (768,)\n",
            "bert.encoder.layer.0.output.LayerNorm.weight                  (768,)\n",
            "bert.encoder.layer.0.output.LayerNorm.bias                    (768,)\n",
            "\n",
            "==== Camada de Saída ====\n",
            "\n",
            "bert.pooler.dense.weight                                  (768, 768)\n",
            "bert.pooler.dense.bias                                        (768,)\n",
            "classifier.weight                                           (2, 768)\n",
            "classifier.bias                                                 (2,)\n"
          ],
          "name": "stdout"
        }
      ]
    },
    {
      "cell_type": "markdown",
      "metadata": {
        "id": "7hBWGUmgUThZ"
      },
      "source": [
        "## Otimizador e taxas de aprendizagem ##\n",
        "\n",
        "Agora que carregamos nosso modelo, precisamos pegar os hiperparâmetros de treinamento de dentro do modelo armazenado.\n",
        "\n",
        "Para fins de ajuste fino, os autores recomendam escolher entre os seguintes valores (do Apêndice A.3 do artigo de BERT ):\n",
        "\n",
        "1. Tamanho do lote (*batch size*): 16, 32\n",
        "1. Taxa de aprendizagem (*Adam*): 5e-5, 3e-5, 2e-5\n",
        "1. Número de épocas: 2, 3, 4\n",
        "\n",
        "Aqui vamos usar:\n",
        "\n",
        "1. Tamanho do lote: 32 (definido ao criar nossos *DataLoaders*)\n",
        "1. Taxa de aprendizagem: 2e-5\n",
        "1. Épocas: 4 (veremos que provavelmente são muitas ...)\n",
        "\n",
        "O parâmetro ```eps = 1e-8``` é “um número muito pequeno para evitar qualquer divisão por zero na implementação” (leia mais [aqui](https://machinelearningmastery.com/adam-optimization-algorithm-for-deep-learning/)).\n",
        "\n",
        "Você pode encontrar a criação do otimizador *AdamW* em ```run_glue.py``` [aqui](https://github.com/huggingface/transformers/blob/5bfcd0485ece086ebcbed2d008813037968a9e58/examples/run_glue.py#L109)."
      ]
    },
    {
      "cell_type": "code",
      "metadata": {
        "id": "kH48Pnl1UThZ"
      },
      "source": [
        "# Nota: AdamW é uma classe da biblioteca huggingface\n",
        "# Provavelmente o 'W' é de 'Weight Decay fix\" ('Correção de redução de peso \")\n",
        "optimizer = AdamW(model.parameters(),\n",
        "                  lr = 2e-5, # args.learning_rate - o padrão é  5e-5, aqui usamos 2e-5\n",
        "                  eps = 1e-8 # args.adam_epsilon  - o padrão é 1e-8.\n",
        "                )"
      ],
      "execution_count": 27,
      "outputs": []
    },
    {
      "cell_type": "code",
      "metadata": {
        "id": "4Yk6BlpEUThZ"
      },
      "source": [
        "from transformers import get_linear_schedule_with_warmup\n",
        "\n",
        "# Número de épocas de treinamento. Os autores do BERT recomendam entre 2 a 4. \n",
        "# Nós escolhemos 4, mas vamos ver depois que isso pode estar causando overfit nos dados de treinamento\n",
        "epochs = 4\n",
        "\n",
        "# Número total de passos de treinamento é [número de batches] x [número de épocas]. \n",
        "# (Note que não é o mesmo que o número de instâncias de treinamento).\n",
        "total_steps = len(train_dataloader) * epochs\n",
        "\n",
        "# Criando o programador de taxa de aprendizagem (learning rate scheduler)\n",
        "scheduler = get_linear_schedule_with_warmup(optimizer, \n",
        "                                            num_warmup_steps = 0, # Valor padrão no run_glue.py\n",
        "                                            num_training_steps = total_steps)"
      ],
      "execution_count": 28,
      "outputs": []
    },
    {
      "cell_type": "markdown",
      "metadata": {
        "id": "xK0zVkdGUTha"
      },
      "source": [
        "## *Loop* de treinamento ##\n",
        "\n",
        "Abaixo está o nosso *loop* de treinamento. Há muita coisa acontecendo, mas fundamentalmente para cada passagem em nosso *loop*, temos uma fase de treinamento e uma fase de validação.\n",
        "\n",
        "**Treinamento:**\n",
        "\n",
        "1. Descompacta nossas entradas (dados e rótulos)\n",
        "1. Carrega dados na GPU para aceleração (quando necessário)\n",
        "1. Limpa os gradientes calculados na passagem anterior\n",
        "(no *pytorch*, os gradientes se acumulam por padrão (útil para RNNs), a menos que a gente limpe explicitamente)\n",
        "1. Passo *Forward* (avanço), alimentando os dados de entrada pela rede\n",
        "1. Passo *Backward* (para trás), ou retropropagação\n",
        "1. Informa a rede para atualizar os parâmetros com ```optimizer.step ()```\n",
        "1. Rastreia variáveis para monitorar o progresso\n",
        "\n",
        "**Avaliação:**\n",
        "\n",
        "1. Descompacta nossas entradas (dados e rótulos)\n",
        "1. Carrega dados na GPU para aceleração (quando necessário)\n",
        "1. Passo *Forward* (avanço), alimentando os dados de entrada pela rede\n",
        "1. Calcula a perda (*loss*) em nossos dados de validação e rastreia variáveis para monitorar o progresso\n",
        "\n",
        "*Pytorch* esconde todos os cálculos detalhados, mas comentamos o código para apontar quais das etapas acima estão acontecendo em cada linha.\n",
        "\n",
        "No código abaixo, definimos uma função auxiliar para calcular a precisão."
      ]
    },
    {
      "cell_type": "code",
      "metadata": {
        "id": "BSljX7FAUTha"
      },
      "source": [
        "import numpy as np\n",
        "\n",
        "# Função para caluclar a acurácia das nossas perdições x rótulos\n",
        "def flat_accuracy(preds, labels):\n",
        "    pred_flat = np.argmax(preds, axis=1).flatten()\n",
        "    labels_flat = labels.flatten()\n",
        "    return np.sum(pred_flat == labels_flat) / len(labels_flat)"
      ],
      "execution_count": 29,
      "outputs": []
    },
    {
      "cell_type": "markdown",
      "metadata": {
        "id": "YDjNSgJjUTha"
      },
      "source": [
        "Função auxiliar para formatar o tempo decorrido (hh:mm:ss)"
      ]
    },
    {
      "cell_type": "code",
      "metadata": {
        "id": "hEsSXtJCUTha"
      },
      "source": [
        "import time\n",
        "import datetime\n",
        "\n",
        "def format_time(elapsed):\n",
        "    '''\n",
        "    Pega o tempo em segundos e retorna como hh:mm:ss\n",
        "    '''\n",
        "    # Arredonda\n",
        "    elapsed_rounded = int(round((elapsed)))\n",
        "    \n",
        "    # Formata como hh:mm:ss\n",
        "    return str(datetime.timedelta(seconds=elapsed_rounded))"
      ],
      "execution_count": 31,
      "outputs": []
    },
    {
      "cell_type": "markdown",
      "metadata": {
        "id": "X9Rur-k-UTha"
      },
      "source": [
        "Estamos prontos para começar o treinamento!"
      ]
    },
    {
      "cell_type": "code",
      "metadata": {
        "colab": {
          "base_uri": "https://localhost:8080/"
        },
        "id": "Uzk4DAAgUThb",
        "outputId": "014c103e-3598-48f4-b0be-71b427941102"
      },
      "source": [
        "import random\n",
        "import numpy as np\n",
        "\n",
        "# Esse código é baseado no `run_glue.py`\n",
        "# https://github.com/huggingface/transformers/blob/5bfcd0485ece086ebcbed2d008813037968a9e58/examples/run_glue.py#L128\n",
        "\n",
        "# Seta o valor 'seed' para tornar reproduzível\n",
        "seed_val = 42\n",
        "\n",
        "random.seed(seed_val)\n",
        "np.random.seed(seed_val)\n",
        "torch.manual_seed(seed_val)\n",
        "torch.cuda.manual_seed_all(seed_val)\n",
        "\n",
        "# Vamos guardar os valores de perda do treinamento e validação, acurária e tempos de execução.\n",
        "training_stats = []\n",
        "\n",
        "# Medir o total do tempo de treinamento para toda execução\n",
        "total_t0 = time.time()\n",
        "\n",
        "# para cada época\n",
        "for epoch_i in range(0, epochs):\n",
        "    \n",
        "    # ========================================\n",
        "    #               Treinamento\n",
        "    # ========================================\n",
        "    \n",
        "    # Executa um passo inteiro em todo conjunto de treinamento\n",
        "\n",
        "    print(\"\")\n",
        "    print('======== Época {:} / {:} ========'.format(epoch_i + 1, epochs))\n",
        "    print('Treinando...')\n",
        "\n",
        "    # Mede quando tempo a época de treinamento demora\n",
        "    t0 = time.time()\n",
        "\n",
        "    # Reseta a perda total para esta época\n",
        "    total_train_loss = 0\n",
        "\n",
        "    # Coloca o modelo em modo de treinamento.\n",
        "    # Essa chamada para `train` apenas muda o modo, mas não executa o treinamento.\n",
        "    # as camadas `dropout` e `batchnorm` tem comportamento diferente durante o treinamento\n",
        "    # (veja mais: https://stackoverflow.com/questions/51433378/what-does-model-train-do-in-pytorch)\n",
        "    model.train()\n",
        "\n",
        "    # Para cada batch dos nossos dados de treinamento\n",
        "    for step, batch in enumerate(train_dataloader):\n",
        "\n",
        "        # Atualiza progresso a cada 40 batches.\n",
        "        if step % 40 == 0 and not step == 0:\n",
        "            # Calcula o tempo em minutos.\n",
        "            elapsed = format_time(time.time() - t0)\n",
        "            \n",
        "            # Imprime o progresso.\n",
        "            print('  Batch {:>5,}  de  {:>5,}.    Tempo: {:}.'.format(step, len(train_dataloader), elapsed))\n",
        "\n",
        "        # Retira esse batch de treinamento do nosso dataloader. \n",
        "        #\n",
        "        # Agora que retiramos esse batch, também vamos copiar cada tensor para a GPU usando o método `to`, se necessário.\n",
        "        #\n",
        "        # `batch` contém três tensores pytorch:\n",
        "        #   [0]: ids de entrada \n",
        "        #   [1]: máscaras de atenção\n",
        "        #   [2]: rótulos\n",
        "        b_input_ids = batch[0].to(device)\n",
        "        b_input_mask = batch[1].to(device)\n",
        "        b_labels = batch[2].to(device)\n",
        "\n",
        "        # Sempre limpe qualquer gradiente calculado anteriormente antes de executar o passo de \n",
        "        # backward, pois o PyTorch não faz isso automaticamente, já que acumular os gradientes é\n",
        "        # importante para o treinamento das RNNs. \n",
        "        # (https://stackoverflow.com/questions/48001598/why-do-we-need-to-call-zero-grad-in-pytorch)\n",
        "        model.zero_grad()        \n",
        "\n",
        "        # Executa o passo forward (avalia o modelo no batch de treinamento).\n",
        "        # Documentação para essa função: \n",
        "        # https://huggingface.co/transformers/v2.2.0/model_doc/bert.html#transformers.BertForSequenceClassification\n",
        "        # Retorna números diferentes de parâmetros, dependendo de qual argumento foi passado e quais flags foram setadas.\n",
        "        # Aqui, vai retornar a perda (loss) e os \"logits\", saídas do modelo antes da ativação\n",
        "        loss, logits = model(b_input_ids, \n",
        "                             token_type_ids=None, \n",
        "                             attention_mask=b_input_mask, \n",
        "                             labels=b_labels)\n",
        "\n",
        "        # Acumula a perda do treinamento de todos os batches então podemos calcular a média da perda no final. \n",
        "        # `loss` é um Tensor contendo um valor único, a função `.item()` apenas retorna o valor Python do tensor.\n",
        "        \n",
        "        # com a versão nova do Transformers (4.x) aqui dá erro\n",
        "        total_train_loss += loss.item()\n",
        "        \n",
        "        # Executa o passo backward para calcular os gradientes\n",
        "        loss.backward()\n",
        "\n",
        "        # Corta a norma dos gradientes para 1.0., para ajudar a prevenir o problema de \"exploding gradients\".\n",
        "        torch.nn.utils.clip_grad_norm_(model.parameters(), 1.0)\n",
        "\n",
        "        # Atualiza parâmetros e passa uma etapa usando o gradiente calculado.\n",
        "        # O otimizador dita o \"update rule\", ou seja, como os parâmetros são modificados com base \n",
        "        # nos gradientes, taxa de aprendizagem, etc\n",
        "        optimizer.step()\n",
        "\n",
        "        # Atualiza taxa de aprendizagem\n",
        "        scheduler.step()\n",
        "\n",
        "    # Calcula a perda média sobre todos os batches.\n",
        "    avg_train_loss = total_train_loss / len(train_dataloader)            \n",
        "    \n",
        "    # Mede quanto tempo levou essa época\n",
        "    training_time = format_time(time.time() - t0)\n",
        "\n",
        "    print(\"\")\n",
        "    print(\"  Perda média do treinamento: {0:.2f}\".format(avg_train_loss))\n",
        "    print(\"  época de treinamento levou : {:}\".format(training_time))\n",
        "        \n",
        "    # ========================================\n",
        "    #               Validação\n",
        "    # ========================================\n",
        "    # Após a conclusão de cada época de treinamento, vamos medir nosso desempenho em nosso conjunto de validação\n",
        "\n",
        "    print(\"\")\n",
        "    print(\"Executando Validação...\")\n",
        "\n",
        "    t0 = time.time()\n",
        "\n",
        "    # Coloca o modelo no modo de avaliação, ou seja, as camadas dropout terão comportamento diferente\n",
        "    model.eval()\n",
        "\n",
        "    # Variáveis de rastreamento\n",
        "    total_eval_accuracy = 0\n",
        "    total_eval_loss = 0\n",
        "    nb_eval_steps = 0\n",
        "\n",
        "    # Avalia os dados para uma época\n",
        "    for batch in validation_dataloader:\n",
        "        \n",
        "        # Retira esse batch de treinamento do nosso dataloader. \n",
        "        #\n",
        "        # Agora que retiramos o batch, vaos copiar cada tensor para nossa GPU com o método `to`, se estamos usando GPU\n",
        "        #\n",
        "        # `batch` contém 3 tensores pytorch:\n",
        "        #   [0]: ids de entrada \n",
        "        #   [1]: máscaras de atenção\n",
        "        #   [2]: rótulos\n",
        "        b_input_ids = batch[0].to(device)\n",
        "        b_input_mask = batch[1].to(device)\n",
        "        b_labels = batch[2].to(device)\n",
        "        \n",
        "        # Informa pytorch para não não se preocupar em construir o gráfico de computação durante o passo forward,\n",
        "        # já que precisa apenas no passo backprop (treinamento).\n",
        "        with torch.no_grad():        \n",
        "\n",
        "            # Passo Forward, calcula as predições logit.\n",
        "            # token_type_ids é o mesmo que os \"segment ids\", que diferencia as sentenças 1 e 2 em uma tarefa com 2 sentenças\n",
        "            # Documentação da função `model`: \n",
        "            # https://huggingface.co/transformers/v2.2.0/model_doc/bert.html#transformers.BertForSequenceClassification\n",
        "            # Pega as saídas \"logits\" do model, valores prévios à aplicação da função de ativação como a softmax.\n",
        "            (loss, logits) = model(b_input_ids, \n",
        "                                   token_type_ids=None, \n",
        "                                   attention_mask=b_input_mask,\n",
        "                                   labels=b_labels)\n",
        "            \n",
        "        # Acumula a perda da validação\n",
        "        total_eval_loss += loss.item()\n",
        "\n",
        "        # Move os logits e rótulos para CPU, se necessário\n",
        "        logits = logits.detach().cpu().numpy()\n",
        "        label_ids = b_labels.to('cpu').numpy()\n",
        "\n",
        "        # Calcula a acurácia desse batch nas frases de teste, e acumula sobre todos os batches.\n",
        "        total_eval_accuracy += flat_accuracy(logits, label_ids)\n",
        "        \n",
        "\n",
        "    # Imprime a acurácia final para a execução da validação.\n",
        "    avg_val_accuracy = total_eval_accuracy / len(validation_dataloader)\n",
        "    print(\"  Acurácia: {0:.2f}\".format(avg_val_accuracy))\n",
        "\n",
        "    # Calcula a média da perda sobre todos os batches.\n",
        "    avg_val_loss = total_eval_loss / len(validation_dataloader)\n",
        "    \n",
        "    # Mede quanto tempo levou a validação\n",
        "    validation_time = format_time(time.time() - t0)\n",
        "    \n",
        "    print(\"  Validação perda (Loss): {0:.2f}\".format(avg_val_loss))\n",
        "    print(\"  Validação levou: {:}\".format(validation_time))\n",
        "\n",
        "    # Grava as estatísticas para esta época.\n",
        "    training_stats.append(\n",
        "        {\n",
        "            'epoch': epoch_i + 1,\n",
        "            'Training Loss': avg_train_loss,\n",
        "            'Valid. Loss': avg_val_loss,\n",
        "            'Valid. Accur.': avg_val_accuracy,\n",
        "            'Training Time': training_time,\n",
        "            'Validation Time': validation_time\n",
        "        }\n",
        "    )\n",
        "\n",
        "print(\"\")\n",
        "print(\"Treinamento completo!\")\n",
        "\n",
        "print(\"Tempo total de treinamento {:} (h:mm:ss)\".format(format_time(time.time()-total_t0)))"
      ],
      "execution_count": 32,
      "outputs": [
        {
          "output_type": "stream",
          "text": [
            "\n",
            "======== Época 1 / 4 ========\n",
            "Treinando...\n",
            "  Batch    40  de    241.    Tempo: 0:00:14.\n",
            "  Batch    80  de    241.    Tempo: 0:00:28.\n",
            "  Batch   120  de    241.    Tempo: 0:00:42.\n",
            "  Batch   160  de    241.    Tempo: 0:00:57.\n",
            "  Batch   200  de    241.    Tempo: 0:01:11.\n",
            "  Batch   240  de    241.    Tempo: 0:01:27.\n",
            "\n",
            "  Perda média do treinamento: 0.49\n",
            "  época de treinamento levou : 0:01:27\n",
            "\n",
            "Executando Validação...\n",
            "  Acurácia: 0.83\n",
            "  Validação perda (Loss): 0.40\n",
            "  Validação levou: 0:00:04\n",
            "\n",
            "======== Época 2 / 4 ========\n",
            "Treinando...\n",
            "  Batch    40  de    241.    Tempo: 0:00:16.\n",
            "  Batch    80  de    241.    Tempo: 0:00:32.\n",
            "  Batch   120  de    241.    Tempo: 0:00:47.\n",
            "  Batch   160  de    241.    Tempo: 0:01:02.\n",
            "  Batch   200  de    241.    Tempo: 0:01:18.\n",
            "  Batch   240  de    241.    Tempo: 0:01:33.\n",
            "\n",
            "  Perda média do treinamento: 0.30\n",
            "  época de treinamento levou : 0:01:34\n",
            "\n",
            "Executando Validação...\n",
            "  Acurácia: 0.84\n",
            "  Validação perda (Loss): 0.46\n",
            "  Validação levou: 0:00:04\n",
            "\n",
            "======== Época 3 / 4 ========\n",
            "Treinando...\n",
            "  Batch    40  de    241.    Tempo: 0:00:16.\n",
            "  Batch    80  de    241.    Tempo: 0:00:31.\n",
            "  Batch   120  de    241.    Tempo: 0:00:46.\n",
            "  Batch   160  de    241.    Tempo: 0:01:02.\n",
            "  Batch   200  de    241.    Tempo: 0:01:17.\n",
            "  Batch   240  de    241.    Tempo: 0:01:33.\n",
            "\n",
            "  Perda média do treinamento: 0.19\n",
            "  época de treinamento levou : 0:01:33\n",
            "\n",
            "Executando Validação...\n",
            "  Acurácia: 0.83\n",
            "  Validação perda (Loss): 0.57\n",
            "  Validação levou: 0:00:04\n",
            "\n",
            "======== Época 4 / 4 ========\n",
            "Treinando...\n",
            "  Batch    40  de    241.    Tempo: 0:00:15.\n",
            "  Batch    80  de    241.    Tempo: 0:00:31.\n",
            "  Batch   120  de    241.    Tempo: 0:00:46.\n",
            "  Batch   160  de    241.    Tempo: 0:01:02.\n",
            "  Batch   200  de    241.    Tempo: 0:01:17.\n",
            "  Batch   240  de    241.    Tempo: 0:01:33.\n",
            "\n",
            "  Perda média do treinamento: 0.13\n",
            "  época de treinamento levou : 0:01:33\n",
            "\n",
            "Executando Validação...\n",
            "  Acurácia: 0.84\n",
            "  Validação perda (Loss): 0.58\n",
            "  Validação levou: 0:00:04\n",
            "\n",
            "Treinamento completo!\n",
            "Tempo total de treinamento 0:06:21 (h:mm:ss)\n"
          ],
          "name": "stdout"
        }
      ]
    },
    {
      "cell_type": "markdown",
      "metadata": {
        "id": "3vyJO3kOUThb"
      },
      "source": [
        "Vamos ver o resumo do processo de treinamento."
      ]
    },
    {
      "cell_type": "code",
      "metadata": {
        "colab": {
          "base_uri": "https://localhost:8080/",
          "height": 204
        },
        "id": "IQYHD9T8UThb",
        "outputId": "f17399fd-57cf-4238-a5a3-940c03bdbcf3"
      },
      "source": [
        "import pandas as pd\n",
        "\n",
        "# Mostra números com duas casas decimais\n",
        "pd.set_option('precision', 2)\n",
        "\n",
        "# Cria um DataFrame das nossas estatísticas de treinamento\n",
        "df_stats = pd.DataFrame(data=training_stats)\n",
        "\n",
        "# Usa a época como o índice da linha\n",
        "df_stats = df_stats.set_index('epoch')\n",
        "\n",
        "# Forçar o agrupamento dos cabeçalho da coluna \n",
        "#df = df.style.set_table_styles([dict(selector=\"th\",props=[('max-width', '70px')])])\n",
        "\n",
        "# Mostra a tabela\n",
        "df_stats"
      ],
      "execution_count": 33,
      "outputs": [
        {
          "output_type": "execute_result",
          "data": {
            "text/html": [
              "<div>\n",
              "<style scoped>\n",
              "    .dataframe tbody tr th:only-of-type {\n",
              "        vertical-align: middle;\n",
              "    }\n",
              "\n",
              "    .dataframe tbody tr th {\n",
              "        vertical-align: top;\n",
              "    }\n",
              "\n",
              "    .dataframe thead th {\n",
              "        text-align: right;\n",
              "    }\n",
              "</style>\n",
              "<table border=\"1\" class=\"dataframe\">\n",
              "  <thead>\n",
              "    <tr style=\"text-align: right;\">\n",
              "      <th></th>\n",
              "      <th>Training Loss</th>\n",
              "      <th>Valid. Loss</th>\n",
              "      <th>Valid. Accur.</th>\n",
              "      <th>Training Time</th>\n",
              "      <th>Validation Time</th>\n",
              "    </tr>\n",
              "    <tr>\n",
              "      <th>epoch</th>\n",
              "      <th></th>\n",
              "      <th></th>\n",
              "      <th></th>\n",
              "      <th></th>\n",
              "      <th></th>\n",
              "    </tr>\n",
              "  </thead>\n",
              "  <tbody>\n",
              "    <tr>\n",
              "      <th>1</th>\n",
              "      <td>0.49</td>\n",
              "      <td>0.40</td>\n",
              "      <td>0.83</td>\n",
              "      <td>0:01:27</td>\n",
              "      <td>0:00:04</td>\n",
              "    </tr>\n",
              "    <tr>\n",
              "      <th>2</th>\n",
              "      <td>0.30</td>\n",
              "      <td>0.46</td>\n",
              "      <td>0.84</td>\n",
              "      <td>0:01:34</td>\n",
              "      <td>0:00:04</td>\n",
              "    </tr>\n",
              "    <tr>\n",
              "      <th>3</th>\n",
              "      <td>0.19</td>\n",
              "      <td>0.57</td>\n",
              "      <td>0.83</td>\n",
              "      <td>0:01:33</td>\n",
              "      <td>0:00:04</td>\n",
              "    </tr>\n",
              "    <tr>\n",
              "      <th>4</th>\n",
              "      <td>0.13</td>\n",
              "      <td>0.58</td>\n",
              "      <td>0.84</td>\n",
              "      <td>0:01:33</td>\n",
              "      <td>0:00:04</td>\n",
              "    </tr>\n",
              "  </tbody>\n",
              "</table>\n",
              "</div>"
            ],
            "text/plain": [
              "       Training Loss  Valid. Loss  Valid. Accur. Training Time Validation Time\n",
              "epoch                                                                         \n",
              "1               0.49         0.40           0.83       0:01:27         0:00:04\n",
              "2               0.30         0.46           0.84       0:01:34         0:00:04\n",
              "3               0.19         0.57           0.83       0:01:33         0:00:04\n",
              "4               0.13         0.58           0.84       0:01:33         0:00:04"
            ]
          },
          "metadata": {
            "tags": []
          },
          "execution_count": 33
        }
      ]
    },
    {
      "cell_type": "markdown",
      "metadata": {
        "id": "guNi39XGUThb"
      },
      "source": [
        "Observe que, enquanto a perda de treinamento está diminuindo a cada época, a perda de validação está aumentando! Isso sugere que estamos treinando nosso modelo por muito tempo e que ele está se ajustando demais aos dados de treinamento.\n",
        "\n",
        "(Para referência, estamos usando 7.695 amostras de treinamento e 856 amostras de validação).\n",
        "\n",
        "A perda de validação é uma medida mais precisa do que a precisão, porque com a precisão não nos importamos com o valor de saída exato, mas apenas em que lado de um limite ele cai.\n",
        "\n",
        "Se estivermos prevendo a resposta correta, mas com menos confiança, a perda de validação pegará isso, mas a precisão não."
      ]
    },
    {
      "cell_type": "code",
      "metadata": {
        "colab": {
          "base_uri": "https://localhost:8080/",
          "height": 429
        },
        "id": "J3OyoiaCUThb",
        "outputId": "8c2b788f-4c46-4192-f5c4-8eb09e602391"
      },
      "source": [
        "import matplotlib.pyplot as plt\n",
        "% matplotlib inline\n",
        "\n",
        "import seaborn as sns\n",
        "\n",
        "# Usando estilo\n",
        "sns.set(style='darkgrid')\n",
        "\n",
        "# Aumentando o tamanho e fonte \n",
        "sns.set(font_scale=1.5)\n",
        "plt.rcParams[\"figure.figsize\"] = (12,6)\n",
        "\n",
        "# Plotando a curva de aprendizagem\n",
        "plt.plot(df_stats['Training Loss'], 'b-o', label=\"Treinamento\")\n",
        "plt.plot(df_stats['Valid. Loss'], 'g-o', label=\"Validação\")\n",
        "\n",
        "# Adicionando títulos\n",
        "plt.title(\"Perda de treinamento e validação\")\n",
        "plt.xlabel(\"Época\")\n",
        "plt.ylabel(\"Perda\")\n",
        "plt.legend()\n",
        "plt.xticks([1, 2, 3, 4])\n",
        "\n",
        "plt.show()"
      ],
      "execution_count": 34,
      "outputs": [
        {
          "output_type": "display_data",
          "data": {
            "image/png": "[encoded data removed]",
            "text/plain": [
              "<Figure size 864x432 with 1 Axes>"
            ]
          },
          "metadata": {
            "tags": []
          }
        }
      ]
    },
    {
      "cell_type": "markdown",
      "metadata": {
        "id": "IjyahGzSUThc"
      },
      "source": [
        "## Desempenho no conjunto de teste \n",
        "\n",
        "Agora, carregaremos o conjunto de dados *holdout* e preparamos as entradas, como fizemos com o conjunto de treinamento. \n",
        "\n",
        "Em seguida, avaliaremos as previsões usando o [coeficiente de correlação de Matthew](https://scikit-learn.org/stable/modules/generated/sklearn.metrics.matthews_corrcoef.html), métrica usada para avaliar o desempenho no CoLA. Com essa métrica, +1 é a melhor pontuação e -1 é a pior pontuação. Dessa forma, podemos ver nosso desempenho em relação aos modelos de última geração para essa tarefa específica.\n",
        "\n",
        "### Preparação de dados \n",
        "\n",
        "Precisaremos aplicar todas as mesmas etapas que fizemos para os dados de treinamento para preparar nosso conjunto de dados de teste.\n",
        "\n"
      ]
    },
    {
      "cell_type": "code",
      "metadata": {
        "colab": {
          "base_uri": "https://localhost:8080/"
        },
        "id": "G4GZU-RGUThc",
        "outputId": "5a14d864-b278-4fa4-b24a-e8a120bbed00"
      },
      "source": [
        "import pandas as pd\n",
        "\n",
        "# Carrega o dataset em um dataframe pandas\n",
        "df = pd.read_csv(\"./cola_public/raw/out_of_domain_dev.tsv\", delimiter='\\t', header=None, names=['sentence_source', 'label', 'label_notes', 'sentence'])\n",
        "\n",
        "# Imprime o número de frases\n",
        "print('Número de frases de teste: {:,}\\n'.format(df.shape[0]))\n",
        "\n",
        "# Cria as listas de frases e rótulos\n",
        "sentences = df.sentence.values\n",
        "labels = df.label.values\n",
        "\n",
        "# Tokeniza todas as sentenças e mapeia os tokens em seus IDs.\n",
        "input_ids = []\n",
        "attention_masks = []\n",
        "\n",
        "# Para cada frase\n",
        "for sent in sentences:\n",
        "    # `encode_plus` vai:\n",
        "    #   (1) Tokenizar a frase\n",
        "    #   (2) Adicionar o token `[CLS]` no início\n",
        "    #   (3) Adicionar o token `[SEP]` no final.\n",
        "    #   (4) Mapear tokens aos seus IDs.\n",
        "    #   (5) Preencher ou truncar a frase até `max_length`\n",
        "    #   (6) Criar máscara de atenção para os tokens [PAD].\n",
        "    encoded_dict = tokenizer.encode_plus(\n",
        "                        sent,                      # Sentença a ser codificada\n",
        "                        add_special_tokens = True, # Adiciona '[CLS]' e '[SEP]'\n",
        "                        max_length = 64,           # Preenche & trunca todas as sentenças\n",
        "                        pad_to_max_length = True,\n",
        "                        return_attention_mask = True,   # Constrói máscara de atenção\n",
        "                        return_tensors = 'pt',     # Retorna tensores pytorch.\n",
        "                   )\n",
        "    \n",
        "    # Adiciona a sentença codificada na lista\n",
        "    input_ids.append(encoded_dict['input_ids'])\n",
        "    \n",
        "    # E sua máscara de atenção (simplesmente diferencia preenchimento (PAD) de não-pad).\n",
        "    attention_masks.append(encoded_dict['attention_mask'])\n",
        "\n",
        "# Converte as listas em tensores.\n",
        "input_ids = torch.cat(input_ids, dim=0)\n",
        "attention_masks = torch.cat(attention_masks, dim=0)\n",
        "labels = torch.tensor(labels)\n",
        "\n",
        "# Seta o batch size.  \n",
        "batch_size = 32  \n",
        "\n",
        "# Cria o DataLoader.\n",
        "prediction_data = TensorDataset(input_ids, attention_masks, labels)\n",
        "prediction_sampler = SequentialSampler(prediction_data)\n",
        "prediction_dataloader = DataLoader(prediction_data, sampler=prediction_sampler, batch_size=batch_size)"
      ],
      "execution_count": 35,
      "outputs": [
        {
          "output_type": "stream",
          "text": [
            "Número de frases de teste: 516\n",
            "\n"
          ],
          "name": "stdout"
        }
      ]
    },
    {
      "cell_type": "markdown",
      "metadata": {
        "id": "FeqtTUuWUThc"
      },
      "source": [
        "### Avaliação no conjunto de teste ###\n",
        "\n",
        "Com o conjunto de teste preparado, podemos aplicar nosso modelo ajustado para gerar previsões no conjunto de teste."
      ]
    },
    {
      "cell_type": "code",
      "metadata": {
        "colab": {
          "base_uri": "https://localhost:8080/"
        },
        "id": "gOO9WqCkUThc",
        "outputId": "ef6f533a-a422-4a03-daad-7e0ca2c5e1bf"
      },
      "source": [
        "# Predição no conjunto de teste\n",
        "\n",
        "print('Predição de rótulos para {:,} frases de teste...'.format(len(input_ids)))\n",
        "\n",
        "# coloca o modele em modo de avaliação\n",
        "model.eval()\n",
        "\n",
        "# Variáveis de rastreamento\n",
        "predictions , true_labels = [], []\n",
        "\n",
        "# Predição \n",
        "for batch in prediction_dataloader:\n",
        "  # Adiciona o batch na GPU\n",
        "  batch = tuple(t.to(device) for t in batch)\n",
        "  \n",
        "  # Retira as entradas do dataloader\n",
        "  b_input_ids, b_input_mask, b_labels = batch\n",
        "  \n",
        "  # Informa o modelo para não computar gradientes, salvando memória e acelerando a predição \n",
        "  with torch.no_grad():\n",
        "      # Passo Forward, calcula as predições logit\n",
        "      outputs = model(b_input_ids, token_type_ids=None, \n",
        "                      attention_mask=b_input_mask)\n",
        "\n",
        "  logits = outputs[0]\n",
        "\n",
        "  # Move as logits e rótulos para CPU\n",
        "  logits = logits.detach().cpu().numpy()\n",
        "  label_ids = b_labels.to('cpu').numpy()\n",
        "  \n",
        "  # Armazen predições e rótulos verdadeiros\n",
        "  predictions.append(logits)\n",
        "  true_labels.append(label_ids)\n",
        "\n",
        "print('FIM.')"
      ],
      "execution_count": 37,
      "outputs": [
        {
          "output_type": "stream",
          "text": [
            "Predição de rótulos para 516 frases de teste...\n",
            "FIM.\n"
          ],
          "name": "stdout"
        }
      ]
    },
    {
      "cell_type": "markdown",
      "metadata": {
        "id": "Diwh1xgqUThc"
      },
      "source": [
        "A precisão no *benchmark* CoLA é medida usando o “coeficiente de correlação de Matthews” (MCC).\n",
        "\n",
        "Usamos MCC aqui porque as classes são desequilibradas:"
      ]
    },
    {
      "cell_type": "code",
      "metadata": {
        "colab": {
          "base_uri": "https://localhost:8080/"
        },
        "id": "ss3ueMk5UThd",
        "outputId": "6042df38-2cb2-4919-feba-f259fee43221"
      },
      "source": [
        "print('Instâncias positivas: %d de %d (%.2f%%)' % (df.label.sum(), len(df.label), (df.label.sum() / len(df.label) * 100.0)))\n"
      ],
      "execution_count": 38,
      "outputs": [
        {
          "output_type": "stream",
          "text": [
            "Instâncias positivas: 354 de 516 (68.60%)\n"
          ],
          "name": "stdout"
        }
      ]
    },
    {
      "cell_type": "code",
      "metadata": {
        "colab": {
          "base_uri": "https://localhost:8080/"
        },
        "id": "pP02zqm4UThd",
        "outputId": "60feb3eb-64bf-4c36-9cbe-fe1647079ba9"
      },
      "source": [
        "from sklearn.metrics import matthews_corrcoef\n",
        "\n",
        "matthews_set = []\n",
        "\n",
        "# Avaliando cada batch de teste usando MCC\n",
        "print('Calculando MCC para cada batch...')\n",
        "\n",
        "# Para cada batch\n",
        "for i in range(len(true_labels)):\n",
        "  \n",
        "  # As predições para este batch são a 2a. coluna do ndarray (uma coluna para \"0\" e outra para \"1\")\n",
        "  # Pega o rótulo com o maior valor e transforma em uma lista de 0s e 1s.\n",
        "  pred_labels_i = np.argmax(predictions[i], axis=1).flatten()\n",
        "  \n",
        "  # Calcula e armazena o coef para este batch.  \n",
        "  matthews = matthews_corrcoef(true_labels[i], pred_labels_i)                \n",
        "  matthews_set.append(matthews)"
      ],
      "execution_count": 39,
      "outputs": [
        {
          "output_type": "stream",
          "text": [
            "Calculando MCC para cada batch...\n"
          ],
          "name": "stdout"
        },
        {
          "output_type": "stream",
          "text": [
            "/usr/local/lib/python3.6/dist-packages/sklearn/metrics/_classification.py:900: RuntimeWarning: invalid value encountered in double_scalars\n",
            "  mcc = cov_ytyp / np.sqrt(cov_ytyt * cov_ypyp)\n"
          ],
          "name": "stderr"
        }
      ]
    },
    {
      "cell_type": "markdown",
      "metadata": {
        "id": "kNnOntTjUThd"
      },
      "source": [
        "A pontuação final será baseada em todo o conjunto de teste, mas vamos dar uma olhada nas pontuações dos lotes individuais para ter uma noção da variabilidade da métrica entre os lotes.\n",
        "\n",
        "Cada lote contém 32 sentenças, exceto o último lote que contém apenas (516% 32) = 4 sentenças de teste."
      ]
    },
    {
      "cell_type": "code",
      "metadata": {
        "colab": {
          "base_uri": "https://localhost:8080/",
          "height": 427
        },
        "id": "2FdSg9ZVUThd",
        "outputId": "b0a57176-f9c9-45c0-fd91-db93b2bee650"
      },
      "source": [
        "# Cria um barplot mostrando o MCC para cada batch dos nossos exemplos de teste.\n",
        "ax = sns.barplot(x=list(range(len(matthews_set))), y=matthews_set, ci=None)\n",
        "\n",
        "plt.title('MCC por Batch')\n",
        "plt.ylabel('MCC Score (-1 a +1)')\n",
        "plt.xlabel('Batch #')\n",
        "\n",
        "plt.show()"
      ],
      "execution_count": 40,
      "outputs": [
        {
          "output_type": "display_data",
          "data": {
            "image/png": "[encoded data removed]",
            "text/plain": [
              "<Figure size 864x432 with 1 Axes>"
            ]
          },
          "metadata": {
            "tags": []
          }
        }
      ]
    },
    {
      "cell_type": "markdown",
      "metadata": {
        "id": "aIprQ7dIUThe"
      },
      "source": [
        "Agora combinaremos os resultados de todos os lotes e calcularemos nossa pontuação final no MCC."
      ]
    },
    {
      "cell_type": "code",
      "metadata": {
        "colab": {
          "base_uri": "https://localhost:8080/"
        },
        "id": "zgg1F-lCUThe",
        "outputId": "14162985-fa56-4e49-df3e-8e3aea3bb5a4"
      },
      "source": [
        "# Combina os resultados para todos os batches. \n",
        "flat_predictions = np.concatenate(predictions, axis=0)\n",
        "\n",
        "# Para cada exemplo, pega o rótulo (0 ou 1) com maior score\n",
        "flat_predictions = np.argmax(flat_predictions, axis=1).flatten()\n",
        "\n",
        "# Combina os rótulos para cada batch em uma única lista.\n",
        "flat_true_labels = np.concatenate(true_labels, axis=0)\n",
        "\n",
        "# Calcula o MCC\n",
        "mcc = matthews_corrcoef(flat_true_labels, flat_predictions)\n",
        "\n",
        "print('Total MCC: %.3f' % mcc)"
      ],
      "execution_count": 41,
      "outputs": [
        {
          "output_type": "stream",
          "text": [
            "Total MCC: 0.556\n"
          ],
          "name": "stdout"
        }
      ]
    },
    {
      "cell_type": "markdown",
      "metadata": {
        "id": "8G2SYdJSUThe"
      },
      "source": [
        "Legal! Em cerca de meia hora e sem fazer nenhum ajuste de hiperparâmetro (ajustando a taxa de aprendizagem, épocas, tamanho do lote, propriedades ADAM, etc.), obtivemos uma boa pontuação."
      ]
    },
    {
      "cell_type": "markdown",
      "metadata": {
        "id": "9wbeNbEZUThe"
      },
      "source": [
        "Nota: Para maximizar a pontuação, devemos remover o “conjunto de validação” (que usamos para ajudar a determinar em quantas épocas treinar) e treinar em todo o conjunto de treinamento."
      ]
    },
    {
      "cell_type": "markdown",
      "metadata": {
        "id": "AddBAXzdUThe"
      },
      "source": [
        "A biblioteca documenta a precisão esperada para este *benchmark* aqui como **49.23** ([ver tabela de classificação oficial](https://gluebenchmark.com/leaderboard/submission/zlssuBTm5XRs0aSKbFYGVIVdvbj1/-LhijX9VVmvJcvzKymxy)).\n",
        "\n",
        "## Conclusão \n",
        "\n",
        "Com um modelo BERT pré-treinado, podemos criar de forma rápida e eficaz um modelo de alta qualidade com o mínimo de esforço e tempo de treinamento usando a interface *Pytorch*, independentemente da tarefa PLN específica em que estamos interessados."
      ]
    },
    {
      "cell_type": "markdown",
      "metadata": {
        "id": "o2vM0vX2UThe"
      },
      "source": [
        "### Salvar e carregar o modelo ajustado \n",
        "\n",
        "A próxima célula grava o modelo e o tokenizador no disco."
      ]
    },
    {
      "cell_type": "code",
      "metadata": {
        "colab": {
          "base_uri": "https://localhost:8080/"
        },
        "id": "2clVnjW1UThf",
        "outputId": "2a2a0a6a-57e7-4d00-db46-1b5504de01f1"
      },
      "source": [
        "import os\n",
        "\n",
        "# Boa-prática: usar os nomes padrão dos modelos, para fazer load usando from_pretrained()\n",
        "\n",
        "output_dir = './model_save/'\n",
        "\n",
        "# Criar diretório de saída se necessário\n",
        "if not os.path.exists(output_dir):\n",
        "    os.makedirs(output_dir)\n",
        "\n",
        "print(\"Savando modelo em %s\" % output_dir)\n",
        "\n",
        "# Salva um modelo treinado, sua configuração e tokenizador com `save_pretrained()`.\n",
        "# Eles podem ser carregados com `from_pretrained()`\n",
        "model_to_save = model.module if hasattr(model, 'module') else model  # Cuida do treinamento paralelo/distribuído\n",
        "model_to_save.save_pretrained(output_dir)\n",
        "tokenizer.save_pretrained(output_dir)\n",
        "\n",
        "# Boa-prática: salve os argumentos de treinamento junto com o modelo\n",
        "# torch.save(args, os.path.join(output_dir, 'training_args.bin'))\n"
      ],
      "execution_count": 42,
      "outputs": [
        {
          "output_type": "stream",
          "text": [
            "Savando modelo em ./model_save/\n"
          ],
          "name": "stdout"
        },
        {
          "output_type": "execute_result",
          "data": {
            "text/plain": [
              "('./model_save/vocab.txt',\n",
              " './model_save/special_tokens_map.json',\n",
              " './model_save/added_tokens.json')"
            ]
          },
          "metadata": {
            "tags": []
          },
          "execution_count": 42
        }
      ]
    },
    {
      "cell_type": "markdown",
      "metadata": {
        "id": "TcE3HTvOUThf"
      },
      "source": [
        "Vamos verificar os tamanhos dos arquivos, por curiosidade.\n",
        "\n",
        "No Colab:"
      ]
    },
    {
      "cell_type": "code",
      "metadata": {
        "colab": {
          "base_uri": "https://localhost:8080/"
        },
        "id": "g47ZXApIUThf",
        "outputId": "9454ad83-5111-412a-b3f7-129e48b5a5fb"
      },
      "source": [
        "!ls -l --block-size=K ./model_save/\n"
      ],
      "execution_count": 44,
      "outputs": [
        {
          "output_type": "stream",
          "text": [
            "total 427996K\n",
            "-rw-r--r-- 1 root root      1K Dec 11 19:55 config.json\n",
            "-rw-r--r-- 1 root root 427753K Dec 11 19:55 pytorch_model.bin\n",
            "-rw-r--r-- 1 root root      1K Dec 11 19:55 special_tokens_map.json\n",
            "-rw-r--r-- 1 root root      1K Dec 11 19:55 tokenizer_config.json\n",
            "-rw-r--r-- 1 root root    227K Dec 11 19:55 vocab.txt\n"
          ],
          "name": "stdout"
        }
      ]
    },
    {
      "cell_type": "markdown",
      "metadata": {
        "id": "3-dC-d_SUThf"
      },
      "source": [
        "O maior arquivo é o peso do modelo, em torno de 418 megabytes.\n",
        "\n"
      ]
    },
    {
      "cell_type": "code",
      "metadata": {
        "colab": {
          "base_uri": "https://localhost:8080/"
        },
        "id": "cF7Jc6cEUThf",
        "outputId": "870cc3c9-b3c1-481e-8a05-36ffd43cddb3"
      },
      "source": [
        "!ls -l --block-size=M ./model_save/pytorch_model.bin\n"
      ],
      "execution_count": 45,
      "outputs": [
        {
          "output_type": "stream",
          "text": [
            "-rw-r--r-- 1 root root 418M Dec 11 19:55 ./model_save/pytorch_model.bin\n"
          ],
          "name": "stdout"
        }
      ]
    },
    {
      "cell_type": "markdown",
      "metadata": {
        "id": "fONYFF4TUThf"
      },
      "source": [
        "Para salvar seu modelo nas sessões do **Colab Notebook**, baixe-o em sua máquina local ou, de preferência, copie-o para o Google Drive."
      ]
    },
    {
      "cell_type": "code",
      "metadata": {
        "id": "bdXVUpBLY2tz"
      },
      "source": [
        "# Montando Google Drive nesta instância\r\n",
        "from google.colab import drive\r\n",
        "\r\n",
        "drive.mount('/content/drive')"
      ],
      "execution_count": null,
      "outputs": []
    },
    {
      "cell_type": "code",
      "metadata": {
        "id": "rNzuRt1OYM_b"
      },
      "source": [
        "# Copia os arquivos do modelo num diretório do Google Drive.\r\n",
        "!cp -r ./model_save/ \"./drive/Shared drives/PLN/BERT Fine-Tuning/\""
      ],
      "execution_count": null,
      "outputs": []
    },
    {
      "cell_type": "markdown",
      "metadata": {
        "id": "n8UjaufMUThg"
      },
      "source": [
        "As funções a seguir carregarão o modelo de volta do disco.\n",
        "\n"
      ]
    },
    {
      "cell_type": "code",
      "metadata": {
        "id": "fUQgKi5OUThg"
      },
      "source": [
        "# Carrega um modelo treinado e seu vocabulário\n",
        "model = model_class.from_pretrained(output_dir)\n",
        "tokenizer = tokenizer_class.from_pretrained(output_dir)\n",
        "\n",
        "# Copia o modelo na GPU\n",
        "model.to(device)"
      ],
      "execution_count": null,
      "outputs": []
    }
  ]
}
